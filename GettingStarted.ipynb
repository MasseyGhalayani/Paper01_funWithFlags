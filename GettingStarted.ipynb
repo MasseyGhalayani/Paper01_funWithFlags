{
 "cells": [
  {
   "cell_type": "code",
   "execution_count": 1,
   "metadata": {},
   "outputs": [
    {
     "name": "stderr",
     "output_type": "stream",
     "text": [
      "INFO: Using numpy backend\n"
     ]
    }
   ],
   "source": [
    "#data and reps from here:\n",
    "#https://github.com/henanjun/LCMR/blob/1/LCMR/LCMR_demo.m\n",
    "\n",
    "#demo for LCMR to be appeared TGRS if you use code, please kind cite the paper, \"A New Spatial-Spectral Feature Extraction Method for Hyperspectral Images Using Local Covariance Matrix Representation\" Leyuan Fang et al. to be appeared TGRS\n",
    "\n",
    "import sys\n",
    "sys.path.append('./Hands')\n",
    "from hand_utils import *\n",
    "sys.path.append('./scripts')\n",
    "import flag_dimensionality_reduction as fdr\n",
    "from utils import *\n",
    "\n",
    "from itertools import compress\n",
    "\n",
    "from matplotlib import pyplot as plt\n",
    "from geomstats.geometry.pre_shape import PreShapeSpace\n",
    "\n",
    "\n",
    "\n",
    "class GeomstatsShapeSpace():\n",
    "    \"\"\"A simple adapter class which uses pymanopt language for geomstats shape space\n",
    "    \"\"\"\n",
    "\n",
    "    def __init__(self, n, k):\n",
    "        self._man = PreShapeSpace(m_ambient = n, k_landmarks = k)\n",
    "        self._man.equip_with_group_action(\"rotations\")\n",
    "        self._man.equip_with_quotient_structure()\n",
    "\n",
    "    def dist(self, point_a, point_b):\n",
    "        return self._man.metric.dist(point_a, point_b)\n",
    "\n",
    "    def exp(self, base_point, tangent_vector):\n",
    "        return self._man.metric.exp(tangent_vector, base_point=base_point)\n",
    "\n",
    "    def log(self, base_point, ambient_point):\n",
    "        return self._man.to_tangent(ambient_point, base_point=base_point)\n",
    "    \n",
    "    def random_point(self):\n",
    "        return self._man.random_point()\n"
   ]
  },
  {
   "cell_type": "markdown",
   "metadata": {},
   "source": [
    "# Generate dataset with 40 hands and 30 ellipse outliers"
   ]
  },
  {
   "cell_type": "code",
   "execution_count": 3,
   "metadata": {},
   "outputs": [],
   "source": [
    "n_outs = 30\n",
    "\n",
    "\n",
    "# load data\n",
    "filepath = './Hands/all/shapes'\n",
    "segmentationlist = readSegmentations(filepath,getxy)[0]\n",
    "hands = np.array(segmentationlist).T\n",
    "\n",
    "\n",
    "shapes = []\n",
    "for h in hands:\n",
    "    k_shape = unmake_1d(h)\n",
    "    k_shape = k_shape - np.mean(k_shape, axis = 0)\n",
    "    k_shape = k_shape/np.linalg.norm(k_shape)\n",
    "    shapes.append(k_shape)\n",
    "\n",
    "shapes = shapes\n",
    "\n",
    "for i in range(30):\n",
    "    outlier = generate_ellipse_outlier(i+100)\n",
    "    shapes.append(outlier)\n",
    "\n",
    "labels = [0]*40 + [1]*n_outs"
   ]
  },
  {
   "cell_type": "markdown",
   "metadata": {},
   "source": [
    "# Flagified Robust PCA Variant\n",
    "\n",
    "We compute fWPCA on flattened hand data contaminated with 30 outliers. Then plot the objective function values and distance on the flag manifold between consecutive iterates of Algorithm 1 in the paper."
   ]
  },
  {
   "cell_type": "code",
   "execution_count": 4,
   "metadata": {},
   "outputs": [
    {
     "name": "stdout",
     "output_type": "stream",
     "text": [
      "--------------------\n",
      "iteration 0\n",
      "objective 101.00925567187885\n",
      "flag distance between B0 and B1 1.4065289529200016\n",
      "\n",
      "--------------------\n",
      "iteration 1\n",
      "objective 99.87069918440783\n",
      "flag distance between B0 and B1 0.18992274028531062\n",
      "\n",
      "--------------------\n",
      "iteration 2\n",
      "objective 99.5187058230264\n",
      "flag distance between B0 and B1 0.07854822906921\n",
      "\n",
      "--------------------\n",
      "iteration 3\n",
      "objective 99.09588689990306\n",
      "flag distance between B0 and B1 0.07723130383569482\n",
      "\n",
      "--------------------\n",
      "iteration 4\n",
      "objective 98.39711405083321\n",
      "flag distance between B0 and B1 0.09657377200413031\n",
      "\n",
      "--------------------\n",
      "iteration 5\n",
      "objective 97.32611145732804\n",
      "flag distance between B0 and B1 0.11581621813229724\n",
      "\n",
      "--------------------\n",
      "iteration 6\n",
      "objective 96.10265249475785\n",
      "flag distance between B0 and B1 0.11739558493193128\n",
      "\n",
      "--------------------\n",
      "iteration 7\n",
      "objective 95.13868295445072\n",
      "flag distance between B0 and B1 0.09225181376197497\n",
      "\n",
      "--------------------\n",
      "iteration 8\n",
      "objective 94.06776786472176\n",
      "flag distance between B0 and B1 0.09794262337243609\n",
      "\n",
      "--------------------\n",
      "iteration 9\n",
      "objective 92.85274190600114\n",
      "flag distance between B0 and B1 0.10753415099921732\n",
      "\n",
      "--------------------\n",
      "iteration 10\n",
      "objective 91.75736983918142\n",
      "flag distance between B0 and B1 0.10606007281210061\n",
      "\n",
      "--------------------\n",
      "iteration 11\n",
      "objective 91.1982177818415\n",
      "flag distance between B0 and B1 0.07726204411286022\n",
      "\n",
      "--------------------\n",
      "iteration 12\n",
      "objective 91.04925337643638\n",
      "flag distance between B0 and B1 0.03783026065495672\n",
      "\n",
      "--------------------\n",
      "iteration 13\n",
      "objective 90.99526927969802\n",
      "flag distance between B0 and B1 0.02203270125292824\n",
      "\n",
      "--------------------\n",
      "iteration 14\n",
      "objective 90.97043904886542\n",
      "flag distance between B0 and B1 0.015114947733589117\n",
      "\n",
      "--------------------\n",
      "iteration 15\n",
      "objective 90.95808539543718\n",
      "flag distance between B0 and B1 0.010544597070201753\n",
      "\n",
      "--------------------\n",
      "iteration 16\n",
      "objective 90.95160344700854\n",
      "flag distance between B0 and B1 0.0073714948152607054\n",
      "\n",
      "--------------------\n",
      "iteration 17\n",
      "objective 90.94808416538471\n",
      "flag distance between B0 and B1 0.005160649138285222\n",
      "\n",
      "--------------------\n",
      "iteration 18\n",
      "objective 90.94612516073437\n",
      "flag distance between B0 and B1 0.003627952225723541\n",
      "\n",
      "--------------------\n",
      "iteration 19\n",
      "objective 90.94501071298721\n",
      "flag distance between B0 and B1 0.002570644993466701\n",
      "\n",
      "--------------------\n",
      "iteration 20\n",
      "objective 90.94436288233102\n",
      "flag distance between B0 and B1 0.0018426478582097433\n",
      "\n",
      "--------------------\n",
      "iteration 21\n",
      "objective 90.94397757267132\n",
      "flag distance between B0 and B1 0.0013402203212307705\n",
      "\n",
      "--------------------\n",
      "iteration 22\n",
      "objective 90.94374271770997\n",
      "flag distance between B0 and B1 0.0009910553501694464\n",
      "\n",
      "--------------------\n",
      "iteration 23\n",
      "objective 90.94359585778996\n",
      "flag distance between B0 and B1 0.0007457418180186395\n",
      "\n",
      "--------------------\n",
      "iteration 24\n",
      "objective 90.94350162228\n",
      "flag distance between B0 and B1 0.0005710189021367932\n",
      "\n",
      "--------------------\n",
      "iteration 25\n",
      "objective 90.94350162228\n",
      "flag distance between B0 and B1 0.0\n",
      "\n"
     ]
    },
    {
     "data": {
      "text/plain": [
       "Text(0.5, 1.0, 'Distance Between Iterates')"
      ]
     },
     "execution_count": 4,
     "metadata": {},
     "output_type": "execute_result"
    },
    {
     "data": {
      "image/png": "[encoded data removed]",
      "text/plain": [
       "<Figure size 576x144 with 2 Axes>"
      ]
     },
     "metadata": {
      "needs_background": "light"
     },
     "output_type": "display_data"
    }
   ],
   "source": [
    "flat_data = np.vstack([d.flatten() for d in shapes]).T #features (random variables) are rows and points (samples) are columns\n",
    "\n",
    "W_fpca, errs, cauchs   = fdr.flag_robust_pca(   flat_data,          # data set in R^n\n",
    "                                                [1,2],              # flag type (nested subspace dimensions in increasing order)\n",
    "                                                'wpca',             # robust pca variant\n",
    "                                                max_iters = 200,    # max number of irls itertions\n",
    "                                                init= 'rand',       # initialization type\n",
    "                                                verbose = True,     # print progress at each iteration\n",
    "                                                return_all = True)  # return more than the principal directions?\n",
    "\n",
    "\n",
    "fig, [ax1, ax2] = plt.subplots(1,2, figsize = (8,2))\n",
    "\n",
    "ax1.plot(errs)\n",
    "ax1.set_xlabel('Iteration')\n",
    "ax1.set_title('Objective Value')\n",
    "\n",
    "ax2.plot(cauchs)\n",
    "ax2.set_xlabel('Iteration')\n",
    "ax2.set_title('Distance Between Iterates')"
   ]
  },
  {
   "cell_type": "markdown",
   "metadata": {},
   "source": [
    "# Compare Flagified PCA variant to T-PCA"
   ]
  },
  {
   "cell_type": "code",
   "execution_count": null,
   "metadata": {},
   "outputs": [],
   "source": [
    "manifold = GeomstatsShapeSpace(2,56)\n",
    "fl_type = [1,2]"
   ]
  },
  {
   "cell_type": "code",
   "execution_count": 5,
   "metadata": {},
   "outputs": [],
   "source": [
    "#compute median (for fW-TPCA, fR-TPCA, or fT-DPCP)\n",
    "mean_seed = 21\n",
    "median = fdr.karcher_median(manifold, shapes, seed = mean_seed)"
   ]
  },
  {
   "cell_type": "code",
   "execution_count": 6,
   "metadata": {},
   "outputs": [
    {
     "name": "stdout",
     "output_type": "stream",
     "text": [
      "--------------------\n",
      "iteration 0\n",
      "objective 0.12151365361165364\n",
      "flag distance between B0 and B1 0.3446774373402149\n",
      "\n",
      "warning: distance is close to 0\n",
      "--------------------\n",
      "iteration 1\n",
      "objective 0.12151365361165364\n",
      "flag distance between B0 and B1 0.0\n",
      "\n"
     ]
    }
   ],
   "source": [
    "[W_ftpca,_,_], ts_ftpca = fdr.flag_robust_tpca( manifold,            #the pymanopt manifold\n",
    "                                                shapes,              #data as points on the manifold\n",
    "                                                fl_type = fl_type,   #the flag type\n",
    "                                                pca_type = 'dpcp',   #the PCA variant (wpca, rpca, or dpcp)\n",
    "                                                return_ts = True,    #return the dataset and tangents to the median\n",
    "                                                median = median,     #the karcher median\n",
    "                                                init = 'rand',       #initialization choice\n",
    "                                                rand_seed = 12345, #seed for reproducibility\n",
    "                                                verbose = True)      #print algorithm progress at each iteration"
   ]
  },
  {
   "cell_type": "code",
   "execution_count": 7,
   "metadata": {},
   "outputs": [],
   "source": [
    "W_tpca, _, ts_tpca, mean =  PGA0(manifold,         #manifold as pymanopt object\n",
    "                                shapes,           #data\n",
    "                                [fl_type[-1]],    #number of PDs\n",
    "                                return_ts = True, #return the dataset and tangents to the karcher mean\n",
    "                                eps = 1e-9)       #convergence parameter for karcher mean"
   ]
  },
  {
   "cell_type": "code",
   "execution_count": 8,
   "metadata": {},
   "outputs": [
    {
     "data": {
      "image/png": "[encoded data removed]",
      "text/plain": [
       "<Figure size 432x288 with 1 Axes>"
      ]
     },
     "metadata": {
      "needs_background": "light"
     },
     "output_type": "display_data"
    }
   ],
   "source": [
    "auc_ftpca, preds_ftpca, thresh_ftpca  = run_roc(shapes, W_ftpca, labels, 'dpcp', manifold, ts_ftpca, median, do_plots = True)"
   ]
  },
  {
   "cell_type": "code",
   "execution_count": 9,
   "metadata": {},
   "outputs": [
    {
     "data": {
      "image/png": "[encoded data removed]",
      "text/plain": [
       "<Figure size 432x288 with 1 Axes>"
      ]
     },
     "metadata": {
      "needs_background": "light"
     },
     "output_type": "display_data"
    }
   ],
   "source": [
    "auc_tpca,  preds_tpca,  thresh_tpca  = run_roc(shapes, W_tpca, labels, 'pca', manifold, ts_tpca, mean, do_plots = True)"
   ]
  },
  {
   "cell_type": "code",
   "execution_count": 19,
   "metadata": {},
   "outputs": [],
   "source": [
    "tpca_inlier_idx = preds_tpca <  thresh_tpca\n",
    "ftpca_inlier_idx = preds_ftpca < thresh_ftpca\n"
   ]
  },
  {
   "cell_type": "code",
   "execution_count": 21,
   "metadata": {},
   "outputs": [],
   "source": [
    "ftpca_shapes = list(compress(shapes, ftpca_inlier_idx))\n",
    "tpca_shapes = list(compress(shapes, tpca_inlier_idx))"
   ]
  },
  {
   "cell_type": "code",
   "execution_count": 22,
   "metadata": {},
   "outputs": [],
   "source": [
    "W_rec_ftpca, _, ts_rec_ftpca, mean_rec_ftpca =  PGA0( manifold, ftpca_shapes, [fl_type[-1]], return_ts = True, eps = 1e-9 )\n",
    "W_rec_tpca, _, ts_rec_tpca, mean_rec_tpca =  PGA0( manifold, tpca_shapes, [fl_type[-1]], return_ts = True, eps = 1e-9 )"
   ]
  },
  {
   "cell_type": "code",
   "execution_count": 23,
   "metadata": {},
   "outputs": [],
   "source": [
    "err_ftpca, rec_data_ftpca  = reconst_err_man(manifold, mean_rec_ftpca, ftpca_shapes, ts_rec_ftpca, W_rec_ftpca, return_data= True)\n",
    "err_tpca, rec_data_tpca  = reconst_err_man(manifold, mean_rec_tpca, ftpca_shapes, ts_rec_tpca, W_rec_tpca, return_data= True)"
   ]
  },
  {
   "cell_type": "code",
   "execution_count": 24,
   "metadata": {},
   "outputs": [
    {
     "data": {
      "image/png": "[encoded data removed]",
      "text/plain": [
       "<Figure size 432x144 with 3 Axes>"
      ]
     },
     "metadata": {
      "needs_background": "light"
     },
     "output_type": "display_data"
    }
   ],
   "source": [
    "\n",
    "W=256\n",
    "H=256\n",
    "\n",
    "pt_num = 0\n",
    "\n",
    "plt.rcParams.update({'font.size': 14})\n",
    "\n",
    "fig, axs = plt.subplots(1,3, figsize = (6,2))\n",
    "\n",
    "axs = axs.flatten()\n",
    "\n",
    "interp_points = interp(shapes[pt_num])\n",
    "axs[2].plot(interp_points[0]*W,interp_points[1]*H, c = 'b')\n",
    "axs[2].set_title('Ground Truth')\n",
    "axs[2].axis('off')\n",
    "\n",
    "interp_points = interp(shapes[pt_num])\n",
    "axs[0].plot(interp_points[0]*W,interp_points[1]*H, c = 'b')\n",
    "interp_points = interp(rec_data_tpca[pt_num])\n",
    "axs[0].plot(interp_points[0]*W,interp_points[1]*H, c = 'r')\n",
    "axs[0].text(13,-2,np.round(err_tpca[pt_num],4))\n",
    "axs[0].axis('off')\n",
    "axs[0].set_title(f'T-PCA')\n",
    "\n",
    "interp_points = interp(shapes[pt_num])\n",
    "axs[1].plot(interp_points[0]*W,interp_points[1]*H, c = 'b')\n",
    "interp_points = interp(rec_data_ftpca[pt_num])\n",
    "axs[1].plot(interp_points[0]*W,interp_points[1]*H, c = 'r')\n",
    "axs[1].text(13,-2,np.round(err_ftpca[pt_num],4))\n",
    "axs[1].axis('off')\n",
    "axs[1].set_title(f'fT-DPCP{fl_type}')\n",
    "        \n",
    "plt.tight_layout()\n",
    "\n"
   ]
  }
 ],
 "metadata": {
  "kernelspec": {
   "display_name": "Python 3",
   "language": "python",
   "name": "python3"
  },
  "language_info": {
   "codemirror_mode": {
    "name": "ipython",
    "version": 3
   },
   "file_extension": ".py",
   "mimetype": "text/x-python",
   "name": "python",
   "nbconvert_exporter": "python",
   "pygments_lexer": "ipython3",
   "version": "3.8.9"
  }
 },
 "nbformat": 4,
 "nbformat_minor": 2
}
