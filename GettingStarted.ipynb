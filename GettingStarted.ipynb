{
 "cells": [
  {
   "cell_type": "code",
   "execution_count": 1,
   "metadata": {},
   "outputs": [
    {
     "name": "stderr",
     "output_type": "stream",
     "text": [
      "INFO: Using numpy backend\n"
     ]
    }
   ],
   "source": [
    "#data and reps from here:\n",
    "#https://github.com/henanjun/LCMR/blob/1/LCMR/LCMR_demo.m\n",
    "\n",
    "#demo for LCMR to be appeared TGRS if you use code, please kind cite the paper, \"A New Spatial-Spectral Feature Extraction Method for Hyperspectral Images Using Local Covariance Matrix Representation\" Leyuan Fang et al. to be appeared TGRS\n",
    "\n",
    "import sys\n",
    "sys.path.append('./Hands')\n",
    "from hand_utils import *\n",
    "sys.path.append('./scripts')\n",
    "import flag_dimensionality_reduction as fdr\n",
    "from utils import *\n",
    "\n",
    "from itertools import compress\n",
    "\n",
    "from matplotlib import pyplot as plt\n",
    "from geomstats.geometry.pre_shape import PreShapeSpace\n",
    "\n",
    "\n",
    "\n",
    "class GeomstatsShapeSpace():\n",
    "    \"\"\"A simple adapter class which uses pymanopt language for geomstats shape space\n",
    "    \"\"\"\n",
    "\n",
    "    def __init__(self, n, k):\n",
    "        self._man = PreShapeSpace(m_ambient = n, k_landmarks = k)\n",
    "        self._man.equip_with_group_action(\"rotations\")\n",
    "        self._man.equip_with_quotient_structure()\n",
    "\n",
    "    def dist(self, point_a, point_b):\n",
    "        return self._man.metric.dist(point_a, point_b)\n",
    "\n",
    "    def exp(self, base_point, tangent_vector):\n",
    "        return self._man.metric.exp(tangent_vector, base_point=base_point)\n",
    "\n",
    "    def log(self, base_point, ambient_point):\n",
    "        return self._man.to_tangent(ambient_point, base_point=base_point)\n",
    "    \n",
    "    def random_point(self):\n",
    "        return self._man.random_point()\n"
   ]
  },
  {
   "cell_type": "markdown",
   "metadata": {},
   "source": [
    "# Generate dataset with 40 hands and 30 ellipse outliers"
   ]
  },
  {
   "cell_type": "code",
   "execution_count": 2,
   "metadata": {},
   "outputs": [],
   "source": [
    "n_outs  = 16\n",
    "\n",
    "n_ins = 44-n_outs\n",
    "\n",
    "trial = 4\n",
    "        \n",
    "\n",
    "# load data\n",
    "filepath = './Hands/all/shapes'\n",
    "segmentationlist = readSegmentations(filepath,getxy)[0]\n",
    "hands0 = np.array(segmentationlist).T\n",
    "hands = procrustes_hand(hands0)\n",
    "\n",
    "np.random.seed(trial)\n",
    "in_ids = np.random.choice(40, n_ins, replace = False)\n",
    "\n",
    "shapes = []\n",
    "for i in in_ids:\n",
    "    h = hands[i]\n",
    "    k_shape = unmake_1d(h)\n",
    "    k_shape = k_shape - np.mean(k_shape, axis = 0)\n",
    "    k_shape = k_shape/np.linalg.norm(k_shape)\n",
    "    shapes.append(k_shape)\n",
    "\n",
    "for i in range(n_outs):\n",
    "    outlier = generate_ellipse_outlier(i + 10*trial)\n",
    "    shapes.append(outlier)\n",
    "\n",
    "labels = [0]*n_ins + [1]*n_outs"
   ]
  },
  {
   "cell_type": "markdown",
   "metadata": {},
   "source": [
    "# Flagified Robust PCA Variant\n",
    "\n",
    "We compute fWPCA on flattened hand data contaminated with 30 outliers. Then plot the objective function values and distance on the flag manifold between consecutive iterates of Algorithm 1 in the paper."
   ]
  },
  {
   "cell_type": "code",
   "execution_count": 3,
   "metadata": {},
   "outputs": [
    {
     "name": "stdout",
     "output_type": "stream",
     "text": [
      "--------------------\n",
      "iteration 0\n",
      "objective 62.81316137206901\n",
      "flag distance between B0 and B1 1.4069534253839138\n",
      "\n",
      "--------------------\n",
      "iteration 1\n",
      "objective 62.571114576496434\n",
      "flag distance between B0 and B1 0.09890172447063945\n",
      "\n",
      "--------------------\n",
      "iteration 2\n",
      "objective 62.53129605507033\n",
      "flag distance between B0 and B1 0.033697020748671765\n",
      "\n",
      "--------------------\n",
      "iteration 3\n",
      "objective 62.493209479323426\n",
      "flag distance between B0 and B1 0.03375114642536206\n",
      "\n",
      "--------------------\n",
      "iteration 4\n",
      "objective 62.431961160925425\n",
      "flag distance between B0 and B1 0.04064073600277465\n",
      "\n",
      "--------------------\n",
      "iteration 5\n",
      "objective 62.33107322811124\n",
      "flag distance between B0 and B1 0.04955870439189207\n",
      "\n",
      "--------------------\n",
      "iteration 6\n",
      "objective 62.18164954890277\n",
      "flag distance between B0 and B1 0.05739065905849899\n",
      "\n",
      "--------------------\n",
      "iteration 7\n",
      "objective 62.01924219332953\n",
      "flag distance between B0 and B1 0.0580226432465542\n",
      "\n",
      "--------------------\n",
      "iteration 8\n",
      "objective 61.922901864120796\n",
      "flag distance between B0 and B1 0.042695500857652\n",
      "\n",
      "--------------------\n",
      "iteration 9\n",
      "objective 61.800887402560136\n",
      "flag distance between B0 and B1 0.041930364095402704\n",
      "\n",
      "--------------------\n",
      "iteration 10\n",
      "objective 61.53708463868829\n",
      "flag distance between B0 and B1 0.0653172644787063\n",
      "\n",
      "--------------------\n",
      "iteration 11\n",
      "objective 60.941535978184554\n",
      "flag distance between B0 and B1 0.10338863441009553\n",
      "\n",
      "--------------------\n",
      "iteration 12\n",
      "objective 59.67545784435208\n",
      "flag distance between B0 and B1 0.15367395326270455\n",
      "\n",
      "--------------------\n",
      "iteration 13\n",
      "objective 57.53757263077764\n",
      "flag distance between B0 and B1 0.19711169873060805\n",
      "\n",
      "--------------------\n",
      "iteration 14\n",
      "objective 55.43273675243689\n",
      "flag distance between B0 and B1 0.1926667062310523\n",
      "\n",
      "--------------------\n",
      "iteration 15\n",
      "objective 54.63208025053245\n",
      "flag distance between B0 and B1 0.12427859284649806\n",
      "\n",
      "--------------------\n",
      "iteration 16\n",
      "objective 54.4817813118891\n",
      "flag distance between B0 and B1 0.05921840600680014\n",
      "\n",
      "--------------------\n",
      "iteration 17\n",
      "objective 54.461721732333125\n",
      "flag distance between B0 and B1 0.021986451122093888\n",
      "\n",
      "--------------------\n",
      "iteration 18\n",
      "objective 54.45927241826955\n",
      "flag distance between B0 and B1 0.006538060305944917\n",
      "\n",
      "--------------------\n",
      "iteration 19\n",
      "objective 54.45876740420176\n",
      "flag distance between B0 and B1 0.002692246641840659\n",
      "\n",
      "--------------------\n",
      "iteration 20\n",
      "objective 54.45865105738523\n",
      "flag distance between B0 and B1 0.001255467882969875\n",
      "\n",
      "--------------------\n",
      "iteration 21\n",
      "objective 54.45865105738523\n",
      "flag distance between B0 and B1 0.0\n",
      "\n"
     ]
    },
    {
     "data": {
      "text/plain": [
       "Text(0.5, 1.0, 'Distance Between Iterates')"
      ]
     },
     "execution_count": 3,
     "metadata": {},
     "output_type": "execute_result"
    },
    {
     "data": {
      "image/png": "[encoded data removed]",
      "text/plain": [
       "<Figure size 576x144 with 2 Axes>"
      ]
     },
     "metadata": {
      "needs_background": "light"
     },
     "output_type": "display_data"
    }
   ],
   "source": [
    "flat_data = np.vstack([d.flatten() for d in shapes]).T #features (random variables) are rows and points (samples) are columns\n",
    "\n",
    "W_fpca, errs, cauchs   = fdr.flag_robust_pca(   flat_data,          # data set in R^n\n",
    "                                                [1,2],              # flag type (nested subspace dimensions in increasing order)\n",
    "                                                'wpca',             # robust pca variant (wpca, rpca, or dpcp)\n",
    "                                                max_iters = 200,    # max number of irls itertions\n",
    "                                                init= 'rand',       # initialization type\n",
    "                                                verbose = True,     # print progress at each iteration\n",
    "                                                return_all = True)  # return more than the principal directions?\n",
    "\n",
    "\n",
    "# plot results\n",
    "fig, [ax1, ax2] = plt.subplots(1,2, figsize = (8,2))\n",
    "\n",
    "ax1.plot(errs)\n",
    "ax1.set_xlabel('Iteration')\n",
    "ax1.set_title('Objective Value')\n",
    "\n",
    "ax2.plot(cauchs)\n",
    "ax2.set_xlabel('Iteration')\n",
    "ax2.set_title('Distance Between Iterates')"
   ]
  },
  {
   "cell_type": "markdown",
   "metadata": {},
   "source": [
    "# Compare Flagified PCA variant to TPCA"
   ]
  },
  {
   "cell_type": "code",
   "execution_count": 4,
   "metadata": {},
   "outputs": [],
   "source": [
    "manifold = GeomstatsShapeSpace(2,56) #initialize kendall shape space\n",
    "fl_type = [1,2] #choose flag type"
   ]
  },
  {
   "cell_type": "code",
   "execution_count": 5,
   "metadata": {},
   "outputs": [],
   "source": [
    "#compute karcher median (for fWTPCA, fRTPCA, or fTDPCP)\n",
    "mean_seed = 21\n",
    "median = fdr.karcher_median(manifold, shapes, seed = mean_seed)"
   ]
  },
  {
   "cell_type": "code",
   "execution_count": 6,
   "metadata": {},
   "outputs": [],
   "source": [
    "#run flagified tangent dpcp\n",
    "[W_ftpca,_,_], ts_ftpca = fdr.flag_robust_tpca( manifold,            #the pymanopt manifold\n",
    "                                                shapes,              #data as points on the manifold\n",
    "                                                fl_type = fl_type,   #the flag type\n",
    "                                                pca_type = 'dpcp',   #the PCA variant (wpca, rpca, or dpcp)\n",
    "                                                return_ts = True,    #return the dataset and tangents to the median\n",
    "                                                median = median,     #the karcher median\n",
    "                                                init = 'svd')        #initialization choice: svd, random, etc..."
   ]
  },
  {
   "cell_type": "code",
   "execution_count": 7,
   "metadata": {},
   "outputs": [],
   "source": [
    "#run tpca\n",
    "W_tpca, _, ts_tpca, mean =  PGA0(manifold,         #manifold as pymanopt object\n",
    "                                shapes,           #data\n",
    "                                [fl_type[-1]],    #number of PDs\n",
    "                                return_ts = True, #return the dataset and tangents to the karcher mean\n",
    "                                eps = 1e-9)       #convergence parameter for karcher mean"
   ]
  },
  {
   "cell_type": "code",
   "execution_count": 8,
   "metadata": {},
   "outputs": [
    {
     "data": {
      "image/png": "[encoded data removed]",
      "text/plain": [
       "<Figure size 432x288 with 1 Axes>"
      ]
     },
     "metadata": {
      "needs_background": "light"
     },
     "output_type": "display_data"
    },
    {
     "data": {
      "image/png": "[encoded data removed]",
      "text/plain": [
       "<Figure size 432x288 with 1 Axes>"
      ]
     },
     "metadata": {
      "needs_background": "light"
     },
     "output_type": "display_data"
    }
   ],
   "source": [
    "#plot fTDPCP ROC curve for outlier detection\n",
    "plt.title('fTDPCP(1,2)')\n",
    "auc_ftpca, preds_ftpca, thresh_ftpca  = run_roc(shapes, W_ftpca, labels, 'dpcp', manifold, ts_ftpca, median, do_plots = True)\n",
    "\n",
    "#plot TPCA ROC curve\n",
    "plt.title('TPCA')\n",
    "auc_tpca,  preds_tpca,  thresh_tpca  = run_roc(shapes, W_tpca, labels, 'pca', manifold, ts_tpca, mean, do_plots = True)"
   ]
  },
  {
   "cell_type": "code",
   "execution_count": 9,
   "metadata": {},
   "outputs": [],
   "source": [
    "#remove the detected outliers\n",
    "\n",
    "#boolean array with predicted inliers as True\n",
    "tpca_inlier_idx = preds_tpca <  thresh_tpca\n",
    "ftpca_inlier_idx = preds_ftpca < thresh_ftpca\n",
    "\n",
    "#Find the index of inliers predicted by both methods (useful for reconstruction indexing later...)\n",
    "true_vals = np.vstack([tpca_inlier_idx, ftpca_inlier_idx])\n",
    "hands_in_all_idx = np.where(np.sum(true_vals, axis = 0)> 0)[0]\n",
    "\n",
    "#collect predicted inliers for each method\n",
    "ftpca_shapes = list(compress(shapes, ftpca_inlier_idx))\n",
    "tpca_shapes = list(compress(shapes, tpca_inlier_idx))\n",
    "\n"
   ]
  },
  {
   "cell_type": "code",
   "execution_count": 10,
   "metadata": {},
   "outputs": [],
   "source": [
    "# recontruct inlier hands\n",
    "\n",
    "#run tpca to reconstruct inlier hands\n",
    "W_rec_ftpca, _, ts_rec_ftpca, mean_rec_ftpca =  PGA0( manifold, ftpca_shapes, [fl_type[-1]], return_ts = True, eps = 1e-9 )\n",
    "W_rec_tpca, _, ts_rec_tpca, mean_rec_tpca =  PGA0( manifold, tpca_shapes, [fl_type[-1]], return_ts = True, eps = 1e-9 )\n",
    "\n",
    "#compute hand reconstructions\n",
    "err_ftpca, rec_data_ftpca  = reconst_class_man(manifold, mean_rec_ftpca, ftpca_shapes, ts_rec_ftpca, W_rec_ftpca, return_data= True)\n",
    "err_tpca, rec_data_tpca  = reconst_class_man(manifold, mean_rec_tpca, tpca_shapes, ts_rec_tpca, W_rec_tpca, return_data= True)\n",
    "\n",
    "\n",
    "\n"
   ]
  },
  {
   "cell_type": "code",
   "execution_count": 13,
   "metadata": {},
   "outputs": [
    {
     "data": {
      "image/png": "[encoded data removed]",
      "text/plain": [
       "<Figure size 432x144 with 3 Axes>"
      ]
     },
     "metadata": {
      "needs_background": "light"
     },
     "output_type": "display_data"
    }
   ],
   "source": [
    "#choose to plot the reconstruction of hand number 2\n",
    "to_reconstr_idx = hands_in_all_idx[2]\n",
    "ftpca_id = np.sum(ftpca_inlier_idx[:to_reconstr_idx])\n",
    "tpca_id = np.sum(tpca_inlier_idx[:to_reconstr_idx])\n",
    "\n",
    "\n",
    "#make the plots\n",
    "W=256\n",
    "H=256\n",
    "\n",
    "plt.rcParams.update({'font.size': 14})\n",
    "\n",
    "fig, axs = plt.subplots(1,3, figsize = (6,2))\n",
    "\n",
    "axs = axs.flatten()\n",
    "\n",
    "interp_points = interp(shapes[to_reconstr_idx])\n",
    "axs[2].plot(interp_points[0]*W,interp_points[1]*H, c = 'b')\n",
    "axs[2].set_title('Ground Truth')\n",
    "axs[2].axis('off')\n",
    "\n",
    "interp_points = interp(shapes[to_reconstr_idx])\n",
    "axs[0].plot(interp_points[0]*W,interp_points[1]*H, c = 'b')\n",
    "interp_points = interp(rec_data_tpca[tpca_id])\n",
    "axs[0].plot(interp_points[0]*W,interp_points[1]*H, c = 'r')\n",
    "axs[0].text(13,-2,np.round(err_tpca[to_reconstr_idx],4))\n",
    "axs[0].axis('off')\n",
    "axs[0].set_title(f'T-PCA')\n",
    "\n",
    "interp_points = interp(shapes[to_reconstr_idx])\n",
    "axs[1].plot(interp_points[0]*W,interp_points[1]*H, c = 'b')\n",
    "interp_points = interp(rec_data_ftpca[ftpca_id])\n",
    "axs[1].plot(interp_points[0]*W,interp_points[1]*H, c = 'r')\n",
    "axs[1].text(13,-2,np.round(err_ftpca[to_reconstr_idx],4))\n",
    "axs[1].axis('off')\n",
    "axs[1].set_title(f'fTDPCP{fl_type}')\n",
    "        \n",
    "plt.tight_layout()\n",
    "\n"
   ]
  },
  {
   "cell_type": "code",
   "execution_count": null,
   "metadata": {},
   "outputs": [],
   "source": []
  }
 ],
 "metadata": {
  "kernelspec": {
   "display_name": "Python 3",
   "language": "python",
   "name": "python3"
  },
  "language_info": {
   "codemirror_mode": {
    "name": "ipython",
    "version": 3
   },
   "file_extension": ".py",
   "mimetype": "text/x-python",
   "name": "python",
   "nbconvert_exporter": "python",
   "pygments_lexer": "ipython3",
   "version": "3.8.9"
  }
 },
 "nbformat": 4,
 "nbformat_minor": 2
}
