{
 "cells": [
  {
   "cell_type": "code",
   "execution_count": 1,
   "metadata": {
    "ExecuteTime": {
     "end_time": "2025-01-26T14:00:44.169944600Z",
     "start_time": "2025-01-26T14:00:43.603003400Z"
    }
   },
   "outputs": [
    {
     "ename": "ModuleNotFoundError",
     "evalue": "No module named 'cv2'",
     "output_type": "error",
     "traceback": [
      "\u001B[1;31m---------------------------------------------------------------------------\u001B[0m",
      "\u001B[1;31mModuleNotFoundError\u001B[0m                       Traceback (most recent call last)",
      "Cell \u001B[1;32mIn[1], line 8\u001B[0m\n\u001B[0;32m      6\u001B[0m \u001B[38;5;28;01mimport\u001B[39;00m\u001B[38;5;250m \u001B[39m\u001B[38;5;21;01mrandom\u001B[39;00m\n\u001B[0;32m      7\u001B[0m \u001B[38;5;28;01mimport\u001B[39;00m\u001B[38;5;250m \u001B[39m\u001B[38;5;21;01mos\u001B[39;00m\n\u001B[1;32m----> 8\u001B[0m \u001B[38;5;28;01mimport\u001B[39;00m\u001B[38;5;250m \u001B[39m\u001B[38;5;21;01mcv2\u001B[39;00m\n\u001B[0;32m      9\u001B[0m \u001B[38;5;28;01mfrom\u001B[39;00m\u001B[38;5;250m \u001B[39m\u001B[38;5;21;01msklearn\u001B[39;00m\u001B[38;5;21;01m.\u001B[39;00m\u001B[38;5;21;01mmetrics\u001B[39;00m\u001B[38;5;250m \u001B[39m\u001B[38;5;28;01mimport\u001B[39;00m roc_curve, auc\n\u001B[0;32m     12\u001B[0m \u001B[38;5;28;01mimport\u001B[39;00m\u001B[38;5;250m \u001B[39m\u001B[38;5;21;01msys\u001B[39;00m\n",
      "\u001B[1;31mModuleNotFoundError\u001B[0m: No module named 'cv2'"
     ]
    }
   ],
   "source": [
    "import numpy as np\n",
    "from matplotlib import pyplot as plt\n",
    "\n",
    "import pandas as pd\n",
    "\n",
    "import random\n",
    "import os\n",
    "import cv2\n",
    "from sklearn.metrics import roc_curve, auc\n",
    "\n",
    "\n",
    "import sys\n",
    "sys.path.append('../scripts')\n",
    "from utils import *\n",
    "\n",
    "#data from here http://weegee.vision.ucmerced.edu/datasets/landuse.html"
   ]
  },
  {
   "cell_type": "code",
   "execution_count": null,
   "metadata": {
    "ExecuteTime": {
     "end_time": "2025-01-26T14:00:44.171943800Z",
     "start_time": "2025-01-26T14:00:44.170944600Z"
    }
   },
   "outputs": [],
   "source": [
    "def tolerant_mean(arrs):\n",
    "    lens = [len(i) for i in arrs]\n",
    "    arr = np.ma.empty((np.max(lens),len(arrs)))\n",
    "    arr.mask = True\n",
    "    for idx, l in enumerate(arrs):\n",
    "        arr[:len(l),idx] = l\n",
    "    return arr.mean(axis = -1)\n",
    "\n",
    "def get_curves(labels, n_out: int, trials: list = [0], pca_type: str = 'pca', base_dir: str = 'results', fl_type: str = ''):\n",
    "    if len(fl_type) > 0:\n",
    "        fl_type = f'{fl_type}_'\n",
    "\n",
    "    fprs = []\n",
    "    tprs = []\n",
    "    for trial in trials:\n",
    "        pca_preds = np.load(f'./{base_dir}/{pca_type}/preds_{fl_type}{n_out}_t{trial}.npy')\n",
    "\n",
    "        fpr, tpr, _ = roc_curve(labels, pca_preds, drop_intermediate=False)\n",
    "        fprs.append(fpr)\n",
    "        tprs.append(tpr)\n",
    "\n",
    "    fpr = tolerant_mean(fprs)\n",
    "    tpr = tolerant_mean(tprs)\n",
    "    roc_auc = auc(fpr, tpr)\n",
    "\n",
    "    return fpr, tpr, roc_auc"
   ]
  },
  {
   "cell_type": "code",
   "execution_count": 2,
   "metadata": {
    "ExecuteTime": {
     "end_time": "2025-01-26T14:00:45.411560400Z",
     "start_time": "2025-01-26T14:00:45.133526100Z"
    }
   },
   "outputs": [
    {
     "ename": "NameError",
     "evalue": "name 'get_curves' is not defined",
     "output_type": "error",
     "traceback": [
      "\u001B[1;31m---------------------------------------------------------------------------\u001B[0m",
      "\u001B[1;31mNameError\u001B[0m                                 Traceback (most recent call last)",
      "Cell \u001B[1;32mIn[2], line 27\u001B[0m\n\u001B[0;32m     24\u001B[0m ii\u001B[38;5;241m=\u001B[39m\u001B[38;5;241m0\u001B[39m\n\u001B[0;32m     26\u001B[0m \u001B[38;5;28;01mfor\u001B[39;00m fl_type, fl_id \u001B[38;5;129;01min\u001B[39;00m \u001B[38;5;28mzip\u001B[39m(fl_types, dfl_ids):\n\u001B[1;32m---> 27\u001B[0m     fpr, tpr, roc_auc \u001B[38;5;241m=\u001B[39m \u001B[43mget_curves\u001B[49m(labels, n_out, trials, \u001B[38;5;124m'\u001B[39m\u001B[38;5;124mdpcp\u001B[39m\u001B[38;5;124m'\u001B[39m, fl_type \u001B[38;5;241m=\u001B[39m fl_type, base_dir \u001B[38;5;241m=\u001B[39m base_dir_path)\n\u001B[0;32m     28\u001B[0m     axs[jj]\u001B[38;5;241m.\u001B[39mplot(fpr, tpr, lw \u001B[38;5;241m=\u001B[39m \u001B[38;5;241m3\u001B[39m, linestyle \u001B[38;5;241m=\u001B[39m linestyles[ii], label \u001B[38;5;241m=\u001B[39m \u001B[38;5;124mf\u001B[39m\u001B[38;5;124m'\u001B[39m\u001B[38;5;124mfDPCP\u001B[39m\u001B[38;5;132;01m{\u001B[39;00mfl_id\u001B[38;5;132;01m}\u001B[39;00m\u001B[38;5;124m'\u001B[39m, alpha \u001B[38;5;241m=\u001B[39m \u001B[38;5;241m.6\u001B[39m)\u001B[38;5;66;03m# (AUC = {np.round(roc_auc,2)})')    \u001B[39;00m\n\u001B[0;32m     29\u001B[0m     row \u001B[38;5;241m=\u001B[39m pd\u001B[38;5;241m.\u001B[39mDataFrame(columns \u001B[38;5;241m=\u001B[39m res\u001B[38;5;241m.\u001B[39mcolumns, data \u001B[38;5;241m=\u001B[39m [[n_out, \u001B[38;5;124mf\u001B[39m\u001B[38;5;124m'\u001B[39m\u001B[38;5;124mDPCP\u001B[39m\u001B[38;5;132;01m{\u001B[39;00mfl_type\u001B[38;5;132;01m}\u001B[39;00m\u001B[38;5;124m'\u001B[39m, roc_auc]])\n",
      "\u001B[1;31mNameError\u001B[0m: name 'get_curves' is not defined"
     ]
    },
    {
     "data": {
      "text/plain": "<Figure size 800x250 with 3 Axes>",
      "image/png": "[encoded data removed]"
     },
     "metadata": {},
     "output_type": "display_data"
    }
   ],
   "source": [
    "\n",
    "linestyles = ['solid', 'dashed',  'dashdot', 'dotted', (0, (3, 1, 1, 1, 1, 1, 1, 1))]\n",
    "res = pd.DataFrame(columns = ['Num Outliers', 'Algorithm', 'AUC'])\n",
    "\n",
    "\n",
    "base_dir_path = 'results'\n",
    "\n",
    "trials = [0,1,2,3,4]\n",
    "face_num = 1\n",
    "\n",
    "n_in = 100\n",
    "fl_types = [[1,10]]\n",
    "fl_ids = ['(1,10)']\n",
    "\n",
    "dfl_ids = ['(1,40)']\n",
    "\n",
    "plt.rcParams.update({'font.size': 14})\n",
    "fig, axs = plt.subplots(1,3, figsize = (8,2.5))\n",
    "jj=0\n",
    "for n_out in [20,40,60]: \n",
    "    labels = [0]*n_in + [1]*n_out  \n",
    "\n",
    "    axs[jj].set_title(f'{n_out} Outliers')\n",
    "\n",
    "    ii=0\n",
    "    \n",
    "    for fl_type, fl_id in zip(fl_types, dfl_ids):\n",
    "        fpr, tpr, roc_auc = get_curves(labels, n_out, trials, 'dpcp', fl_type = fl_type, base_dir = base_dir_path)\n",
    "        axs[jj].plot(fpr, tpr, lw = 3, linestyle = linestyles[ii], label = f'fDPCP{fl_id}', alpha = .6)# (AUC = {np.round(roc_auc,2)})')    \n",
    "        row = pd.DataFrame(columns = res.columns, data = [[n_out, f'DPCP{fl_type}', roc_auc]])\n",
    "        res = pd.concat([res, row])    \n",
    "        ii+=1\n",
    "\n",
    "\n",
    "    fpr, tpr, roc_auc = get_curves(labels, n_out, trials, 'dpcp_base', base_dir = base_dir_path)\n",
    "    axs[jj].plot(fpr, tpr, lw = 3, linestyle = linestyles[ii], label = f'L2-DPCP', alpha = .6)# (AUC = {np.round(roc_auc,2)})')\n",
    "    row = pd.DataFrame(columns = res.columns, data = [[n_out, f'L2-DPCP', roc_auc]])\n",
    "    res = pd.concat([res, row])    \n",
    "    ii+=1\n",
    "\n",
    "    fpr, tpr, roc_auc = get_curves(labels, n_out, trials, 'rpca_base_new', base_dir = base_dir_path)\n",
    "    axs[jj].plot(fpr, tpr, lw = 3, linestyle = linestyles[ii], label = f'RPCA', alpha = .6)# (AUC = {np.round(roc_auc,2)})')\n",
    "    row = pd.DataFrame(columns = res.columns, data = [[n_out, f'RPCA', roc_auc]])\n",
    "    res = pd.concat([res, row])    \n",
    "    ii+=1\n",
    "\n",
    "\n",
    "    fpr, tpr, roc_auc = get_curves(labels, n_out, trials, 'pca', base_dir = base_dir_path)\n",
    "    axs[jj].plot(fpr, tpr, lw = 3, linestyle = linestyles[ii], label = f'PCA', alpha = .6)# (AUC = {np.round(roc_auc,2)})')\n",
    "    row = pd.DataFrame(columns = res.columns, data = [[n_out, 'PCA', roc_auc]])\n",
    "    res = pd.concat([res, row])    \n",
    "    ii+=1\n",
    "\n",
    " \n",
    "    \n",
    "    axs[jj].set_xlabel('FPR')\n",
    "\n",
    "\n",
    "    axs[jj].set_ylim([.2,1.03])\n",
    "\n",
    "    axs[jj].set_xscale('log')\n",
    "\n",
    "    if jj > 0:\n",
    "        axs[jj].set_yticks([])\n",
    "    \n",
    "\n",
    "    axs[jj].grid(True, which=\"both\", axis = 'x')\n",
    "\n",
    "    \n",
    "\n",
    "\n",
    "    jj+=1\n",
    "\n",
    "axs[0].set_ylabel('TPR')\n",
    "\n",
    "axs[2].legend(loc='center left', bbox_to_anchor=(1, 0.5), fontsize = 14)\n",
    "\n",
    "plt.subplots_adjust(wspace=None, hspace=None)\n",
    "plt.tight_layout()\n",
    "plt.savefig('../Results/landuse_roc.pdf')"
   ]
  }
 ],
 "metadata": {
  "kernelspec": {
   "display_name": "Python 3",
   "language": "python",
   "name": "python3"
  },
  "language_info": {
   "codemirror_mode": {
    "name": "ipython",
    "version": 3
   },
   "file_extension": ".py",
   "mimetype": "text/x-python",
   "name": "python",
   "nbconvert_exporter": "python",
   "pygments_lexer": "ipython3",
   "version": "3.8.9"
  }
 },
 "nbformat": 4,
 "nbformat_minor": 2
}
