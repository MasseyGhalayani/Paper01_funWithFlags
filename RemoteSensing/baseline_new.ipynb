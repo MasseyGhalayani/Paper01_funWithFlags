{
 "cells": [
  {
   "cell_type": "code",
   "execution_count": 1,
   "metadata": {},
   "outputs": [],
   "source": [
    "#\n",
    "\n",
    "from matplotlib import pyplot as plt\n",
    "\n",
    "import numpy as np\n",
    "from scipy.linalg import svd, eigh\n",
    "\n",
    "import pandas as pd\n",
    "\n",
    "import os\n",
    "\n",
    "import cv2\n",
    "\n",
    "import random\n",
    "\n",
    "from sklearn.decomposition import PCA\n",
    "\n",
    "\n",
    "import sys\n",
    "sys.path.append('../scripts/')\n",
    "\n",
    "import flag_dimensionality_reduction as fdr\n",
    "\n",
    "from sklearn.metrics import roc_curve, auc\n",
    "\n",
    "import time\n",
    "\n",
    "def get_data(class_name, n_pts):\n",
    "    data = []\n",
    "    for i in np.arange(n_pts):\n",
    "        if i < 10:\n",
    "            im_num = f'0{i}'\n",
    "        else:\n",
    "            im_num = str(i)\n",
    "        image = plt.imread(f'./UCMerced_LandUse/Images/{class_name}/{class_name}{im_num}.tif')\n",
    "        gray_image = cv2.cvtColor(image, cv2.COLOR_BGR2GRAY)\n",
    "        small_gray_image = cv2.resize(gray_image, dsize=(100,100), interpolation=cv2.INTER_CUBIC)\n",
    "        data.append(small_gray_image.flatten())\n",
    "\n",
    "    return data\n",
    "\n",
    "def get_outliers(class_name, n_pts, seed):\n",
    "    np.random.seed(seed)\n",
    "    data = []\n",
    "    for i in np.random.choice(100, n_pts, replace = False):\n",
    "        if i < 10:\n",
    "            im_num = f'0{i}'\n",
    "        else:\n",
    "            im_num = str(i)\n",
    "        image = plt.imread(f'./UCMerced_LandUse/Images/{class_name}/{class_name}{im_num}.tif')\n",
    "        gray_image = cv2.cvtColor(image, cv2.COLOR_BGR2GRAY)\n",
    "        small_gray_image = cv2.resize(gray_image, dsize=(100,100), interpolation=cv2.INTER_CUBIC)\n",
    "        data.append(small_gray_image.flatten())\n",
    "\n",
    "    return data\n"
   ]
  },
  {
   "cell_type": "code",
   "execution_count": 2,
   "metadata": {},
   "outputs": [],
   "source": [
    "n_in = 100\n",
    "n_out = 20\n",
    "inliers = get_data('runway', n_in)\n",
    "outliers = get_outliers('mobilehomepark', n_out, 0)\n",
    "\n",
    "X_raw = np.vstack([inliers, outliers])\n",
    "\n",
    "pca = PCA(n_components = 50)\n",
    "X = pca.fit_transform(X_raw)\n",
    "\n",
    "column_means = np.mean(X, axis=0)\n",
    "Xcenter = X - column_means\n",
    "\n",
    "labels = np.array([0]*n_in+[1]*n_out)"
   ]
  },
  {
   "cell_type": "code",
   "execution_count": 3,
   "metadata": {},
   "outputs": [
    {
     "data": {
      "text/plain": [
       "[<matplotlib.lines.Line2D at 0x28b406400>]"
      ]
     },
     "execution_count": 3,
     "metadata": {},
     "output_type": "execute_result"
    },
    {
     "data": {
      "image/png": "[encoded data removed]",
      "text/plain": [
       "<Figure size 432x288 with 1 Axes>"
      ]
     },
     "metadata": {
      "needs_background": "light"
     },
     "output_type": "display_data"
    }
   ],
   "source": [
    "pca = PCA(n_components = 10)\n",
    "pca.fit(Xcenter)\n",
    "Wpca = pca.components_.T\n",
    "\n",
    "pca_errs = []\n",
    "for i in range(len(X_raw)):   \n",
    "    x = Xcenter[[i],:]\n",
    "    pca_errs.append(np.linalg.norm(x @ Wpca @ Wpca.T  - x))\n",
    "    \n",
    "pca_preds = np.array(pca_errs)\n",
    "pca_preds = pca_preds/np.max(pca_preds)\n",
    "\n",
    "\n",
    "fpr, tpr, _ = roc_curve(labels, pca_preds, drop_intermediate=False)\n",
    "plt.plot(fpr, tpr)"
   ]
  },
  {
   "cell_type": "code",
   "execution_count": 4,
   "metadata": {},
   "outputs": [],
   "source": [
    "def man_RPCA(Y: np.array, n_pcs = 10):\n",
    "    '''\n",
    "        trying to code alg1 in python\n",
    "        https://jmlr.csail.mit.edu/papers/volume19/17-473/17-473.pdf\n",
    "    '''\n",
    "    \n",
    "\n",
    "    pca = PCA(n_components = n_pcs)\n",
    "    pca.fit_transform(Y.T)\n",
    "    W = pca.components_.T\n",
    "    L0 = W @ W.T @ Y\n",
    "\n",
    "    n,p = L0.shape\n",
    "    print(L0.shape)\n",
    "\n",
    "    gamma = .1\n",
    "    eta = .7\n",
    "\n",
    "    row_idx = int(np.ceil((p-1)*(1-gamma)))\n",
    "    col_idx = int(np.ceil((n-1)*(1-gamma)))\n",
    "    \n",
    "\n",
    "    diff = 1\n",
    "    while diff  > 1e-10:\n",
    "\n",
    "        U, S, V = np.linalg.svd(L0)\n",
    "\n",
    "        L0mY = L0 - Y\n",
    "        D = np.zeros(L0.shape)\n",
    "        for i in range(n):\n",
    "            sorted_row = np.sort(np.abs(L0mY[i,:]))\n",
    "            row_thresh = sorted_row[row_idx]\n",
    "            for j in range(p):\n",
    "                sorted_col = np.sort(np.abs(L0mY[:,j]))\n",
    "                col_thresh = sorted_col[col_idx]\n",
    "                if L0mY[i,j] > row_thresh and L0mY[i,j] > col_thresh:\n",
    "                    D[i,j] = 0\n",
    "                else:\n",
    "                    D[i,j] = L0mY[i,j]\n",
    "\n",
    "        Pu = U @ U.T\n",
    "        Pv = V @ V.T\n",
    "        Omega = Pu @ D + D @ Pv - Pu @ D @ Pv\n",
    "\n",
    "        L1 = L0 - eta*Omega\n",
    "\n",
    "        diff = np.linalg.norm(L1 - L0)\n",
    "        # print(np.linalg.norm(L1, ord = 'nuc') + np.linalg.norm(Xcenter - L1))\n",
    "        # print(.5*np.linalg.norm(D,ord = 'fro')**2)\n",
    "\n",
    "        L0 = L1.copy()\n",
    "\n",
    "    return L1"
   ]
  },
  {
   "cell_type": "code",
   "execution_count": 5,
   "metadata": {},
   "outputs": [
    {
     "name": "stdout",
     "output_type": "stream",
     "text": [
      "(50, 120)\n"
     ]
    },
    {
     "data": {
      "text/plain": [
       "<matplotlib.legend.Legend at 0x2889f8eb0>"
      ]
     },
     "execution_count": 5,
     "metadata": {},
     "output_type": "execute_result"
    },
    {
     "data": {
      "image/png": "[encoded data removed]",
      "text/plain": [
       "<Figure size 432x288 with 1 Axes>"
      ]
     },
     "metadata": {
      "needs_background": "light"
     },
     "output_type": "display_data"
    }
   ],
   "source": [
    "Xhat = man_RPCA(Xcenter.T)\n",
    "pca_errs = []\n",
    "for i in range(len(X)):   \n",
    "    pca_errs.append(np.linalg.norm(Xhat[:,i]  - Xcenter[i,:]))\n",
    "\n",
    "rpca_preds = np.array(pca_errs)\n",
    "rpca_preds = rpca_preds/np.max(rpca_preds)\n",
    "\n",
    "fpr, tpr, _ = roc_curve(labels, pca_preds, drop_intermediate=False)\n",
    "plt.plot(fpr, tpr, label = 'pca')\n",
    "\n",
    "fpr, tpr, _ = roc_curve(labels, rpca_preds, drop_intermediate=False)\n",
    "plt.plot(fpr, tpr, label = 'my rpca')\n",
    "\n",
    "plt.legend()"
   ]
  },
  {
   "cell_type": "code",
   "execution_count": 6,
   "metadata": {},
   "outputs": [],
   "source": [
    "import math\n",
    "import numpy.linalg\n",
    "\n",
    "def robust_pca(M):\n",
    "    #https://github.com/nwbirnie/rpca/blob/master/rpca.py\n",
    "    \"\"\" \n",
    "    Decompose a matrix into low rank and sparse components.\n",
    "    Computes the RPCA decomposition using Alternating Lagrangian Multipliers.\n",
    "    Returns L,S the low rank and sparse components respectively\n",
    "    \"\"\"\n",
    "    L = numpy.zeros(M.shape)\n",
    "    S = numpy.zeros(M.shape)\n",
    "    Y = numpy.zeros(M.shape)\n",
    "    # print(M.shape)\n",
    "    mu = (M.shape[0] * M.shape[1]) / (4.0 * L1Norm(M))\n",
    "    lamb = max(M.shape) ** -0.5\n",
    "    while not converged(M,L,S):\n",
    "        L = svd_shrink(M - S - (mu**-1) * Y, mu)\n",
    "        S = shrink(M - L + (mu**-1) * Y, lamb * mu)\n",
    "        Y = Y + mu * (M - L - S)\n",
    "    return L,S\n",
    "    \n",
    "def svd_shrink(X, tau):\n",
    "    \"\"\"\n",
    "    Apply the shrinkage operator to the singular values obtained from the SVD of X.\n",
    "    The parameter tau is used as the scaling parameter to the shrink function.\n",
    "    Returns the matrix obtained by computing U * shrink(s) * V where \n",
    "        U are the left singular vectors of X\n",
    "        V are the right singular vectors of X\n",
    "        s are the singular values as a diagonal matrix\n",
    "    \"\"\"\n",
    "    U,s,V = numpy.linalg.svd(X, full_matrices=False)\n",
    "    return numpy.dot(U, numpy.dot(numpy.diag(shrink(s, tau)), V))\n",
    "    \n",
    "def shrink(X, tau):\n",
    "    \"\"\"\n",
    "    Apply the shrinkage operator the the elements of X.\n",
    "    Returns V such that V[i,j] = max(abs(X[i,j]) - tau,0).\n",
    "    \"\"\"\n",
    "    V = numpy.copy(X).reshape(X.size)\n",
    "    for i in range(V.size):\n",
    "        V[i] = math.copysign(max(abs(V[i]) - tau, 0), V[i])\n",
    "        if V[i] == -0:\n",
    "            V[i] = 0\n",
    "    return V.reshape(X.shape)\n",
    "            \n",
    "def frobeniusNorm(X):\n",
    "    \"\"\"\n",
    "    Evaluate the Frobenius norm of X\n",
    "    Returns sqrt(sum_i sum_j X[i,j] ^ 2)\n",
    "    \"\"\"\n",
    "    accum = 0\n",
    "    V = numpy.reshape(X,X.size)\n",
    "    for i in range(V.size):\n",
    "        accum += abs(V[i] ** 2)\n",
    "    return math.sqrt(accum)\n",
    "\n",
    "def L1Norm(X):\n",
    "    \"\"\"\n",
    "    Evaluate the L1 norm of X\n",
    "    Returns the max over the sum of each column of X\n",
    "    \"\"\"\n",
    "    return max(numpy.sum(X,axis=0))\n",
    "\n",
    "def converged(M,L,S):\n",
    "    \"\"\"\n",
    "    A simple test of convergence based on accuracy of matrix reconstruction\n",
    "    from sparse and low rank parts\n",
    "    \"\"\"\n",
    "    error = frobeniusNorm(M - L - S) / frobeniusNorm(M)\n",
    "    print(f'error = {error}')\n",
    "    return error <= 10e-6\n"
   ]
  },
  {
   "cell_type": "code",
   "execution_count": 7,
   "metadata": {},
   "outputs": [
    {
     "name": "stdout",
     "output_type": "stream",
     "text": [
      "error = 1.0\n",
      "error = 7.025613031694018e-06\n"
     ]
    },
    {
     "data": {
      "text/plain": [
       "<matplotlib.legend.Legend at 0x2889f0f70>"
      ]
     },
     "execution_count": 7,
     "metadata": {},
     "output_type": "execute_result"
    },
    {
     "data": {
      "image/png": "[encoded data removed]",
      "text/plain": [
       "<Figure size 432x288 with 1 Axes>"
      ]
     },
     "metadata": {
      "needs_background": "light"
     },
     "output_type": "display_data"
    }
   ],
   "source": [
    "\n",
    "Xhat, S = robust_pca(Xcenter.T)\n",
    "\n",
    "pca_errs = []\n",
    "for i in range(len(X)):   \n",
    "    pca_errs.append(np.linalg.norm(Xhat[:,i]  - Xcenter[i,:]))\n",
    "\n",
    "brpca_preds = np.array(pca_errs)\n",
    "brpca_preds = brpca_preds/np.max(brpca_preds)\n",
    "\n",
    "fpr, tpr, _ = roc_curve(labels, pca_preds, drop_intermediate=False)\n",
    "plt.plot(fpr, tpr, label = 'pca')\n",
    "\n",
    "fpr, tpr, _ = roc_curve(labels, rpca_preds, drop_intermediate=False)\n",
    "plt.plot(fpr, tpr, label = 'my rpca')\n",
    "\n",
    "fpr, tpr, _ = roc_curve(labels, brpca_preds, drop_intermediate=False)\n",
    "plt.plot(fpr, tpr, label = 'rpca')\n",
    "\n",
    "plt.legend()\n"
   ]
  },
  {
   "cell_type": "code",
   "execution_count": 8,
   "metadata": {},
   "outputs": [
    {
     "data": {
      "text/plain": [
       "<matplotlib.legend.Legend at 0x2889f5910>"
      ]
     },
     "execution_count": 8,
     "metadata": {},
     "output_type": "execute_result"
    },
    {
     "data": {
      "image/png": "[encoded data removed]",
      "text/plain": [
       "<Figure size 432x288 with 1 Axes>"
      ]
     },
     "metadata": {
      "needs_background": "light"
     },
     "output_type": "display_data"
    }
   ],
   "source": [
    "dpcp_preds = np.load('/Users/natemankovich/Documents/PostDoc/FunWithFlags2024/RemoteSensing/results_sanity/dpcp/preds_[1, 10]_20_t0.npy')\n",
    "\n",
    "fpr, tpr, _ = roc_curve(labels, pca_preds, drop_intermediate=False)\n",
    "plt.plot(fpr, tpr, label = 'pca')\n",
    "\n",
    "fpr, tpr, _ = roc_curve(labels, rpca_preds, drop_intermediate=False)\n",
    "plt.plot(fpr, tpr, label = 'my rpca')\n",
    "\n",
    "fpr, tpr, _ = roc_curve(labels, brpca_preds, drop_intermediate=False)\n",
    "plt.plot(fpr, tpr, label = 'rpca')\n",
    "\n",
    "fpr, tpr, _ = roc_curve(labels, dpcp_preds, drop_intermediate=False)\n",
    "plt.plot(fpr, tpr, label = 'fdpcp(1,40)')\n",
    "\n",
    "plt.legend()"
   ]
  },
  {
   "cell_type": "code",
   "execution_count": 9,
   "metadata": {},
   "outputs": [],
   "source": [
    "import wpca\n",
    "\n"
   ]
  },
  {
   "cell_type": "code",
   "execution_count": 10,
   "metadata": {},
   "outputs": [
    {
     "data": {
      "text/plain": [
       "(-0.01, 0.2)"
      ]
     },
     "execution_count": 10,
     "metadata": {},
     "output_type": "execute_result"
    },
    {
     "data": {
      "image/png": "[encoded data removed]",
      "text/plain": [
       "<Figure size 432x288 with 1 Axes>"
      ]
     },
     "metadata": {
      "needs_background": "light"
     },
     "output_type": "display_data"
    }
   ],
   "source": [
    "\n",
    "my_wpca = wpca.WPCA(n_components = 8)\n",
    "my_wpca.fit(Xcenter)\n",
    "Wwpca = my_wpca.components_.T\n",
    "\n",
    "pca_errs = []\n",
    "for i in range(len(X)):   \n",
    "    x = Xcenter[[i],:]\n",
    "    pca_errs.append(np.linalg.norm(x @ Wwpca @ Wwpca.T - x))\n",
    "\n",
    "wpca_preds = np.array(pca_errs)\n",
    "wpca_preds = wpca_preds/np.max(wpca_preds)\n",
    "\n",
    "# plt.figure()\n",
    "# plt.scatter(np.arange(len(wpca_preds)), wpca_preds)\n",
    "# plt.scatter(np.arange(len(wpca_preds)), labels)\n",
    "\n",
    "plt.figure()\n",
    "fpr, tpr, _ = roc_curve(labels, pca_preds, drop_intermediate=False)\n",
    "plt.plot(fpr, tpr, label = 'pca')\n",
    "\n",
    "fpr, tpr, _ = roc_curve(labels, rpca_preds, drop_intermediate=False)\n",
    "plt.plot(fpr, tpr, label = 'my rpca')\n",
    "\n",
    "fpr, tpr, _ = roc_curve(labels, brpca_preds, drop_intermediate=False)\n",
    "plt.plot(fpr, tpr, label = 'rpca')\n",
    "\n",
    "fpr, tpr, _ = roc_curve(labels, dpcp_preds, drop_intermediate=False)\n",
    "plt.plot(fpr, tpr, label = 'fdpcp(1,40)')\n",
    "\n",
    "fpr, tpr, _ = roc_curve(labels, wpca_preds, drop_intermediate=False)\n",
    "plt.plot(fpr, tpr, label = 'WtPCA')\n",
    "plt.legend()\n",
    "plt.xlim([-.01,.2])"
   ]
  },
  {
   "cell_type": "code",
   "execution_count": 11,
   "metadata": {},
   "outputs": [
    {
     "data": {
      "text/plain": [
       "(-0.01, 0.2)"
      ]
     },
     "execution_count": 11,
     "metadata": {},
     "output_type": "execute_result"
    },
    {
     "data": {
      "image/png": "[encoded data removed]",
      "text/plain": [
       "<Figure size 432x288 with 1 Axes>"
      ]
     },
     "metadata": {
      "needs_background": "light"
     },
     "output_type": "display_data"
    },
    {
     "data": {
      "image/png": "[encoded data removed]",
      "text/plain": [
       "<Figure size 432x288 with 1 Axes>"
      ]
     },
     "metadata": {
      "needs_background": "light"
     },
     "output_type": "display_data"
    }
   ],
   "source": [
    "my_wpca = wpca.EMPCA(n_components = 8)\n",
    "my_wpca.fit(Xcenter)\n",
    "Wwpca = my_wpca.components_.T\n",
    "\n",
    "pca_errs = []\n",
    "for i in range(len(X)):   \n",
    "    x = Xcenter[[i],:]\n",
    "    pca_errs.append(np.linalg.norm(x @ Wwpca @ Wwpca.T - x))\n",
    "\n",
    "empca_preds = np.array(pca_errs)\n",
    "empca_preds = empca_preds/np.max(empca_preds)\n",
    "\n",
    "plt.scatter(np.arange(len(wpca_preds)), empca_preds)\n",
    "plt.scatter(np.arange(len(wpca_preds)), labels)\n",
    "\n",
    "plt.figure()\n",
    "fpr, tpr, _ = roc_curve(labels, pca_preds, drop_intermediate=False)\n",
    "plt.plot(fpr, tpr, label = 'pca')\n",
    "\n",
    "fpr, tpr, _ = roc_curve(labels, rpca_preds, drop_intermediate=False)\n",
    "plt.plot(fpr, tpr, label = 'my rpca')\n",
    "\n",
    "fpr, tpr, _ = roc_curve(labels, brpca_preds, drop_intermediate=False)\n",
    "plt.plot(fpr, tpr, label = 'rpca')\n",
    "\n",
    "fpr, tpr, _ = roc_curve(labels, dpcp_preds, drop_intermediate=False)\n",
    "plt.plot(fpr, tpr, label = 'fdpcp(1,40)')\n",
    "\n",
    "fpr, tpr, _ = roc_curve(labels, wpca_preds, drop_intermediate=False)\n",
    "plt.plot(fpr, tpr, label = 'WtPCA')\n",
    "\n",
    "fpr, tpr, _ = roc_curve(labels, empca_preds, drop_intermediate=False)\n",
    "plt.plot(fpr, tpr, label = 'EMPCA')\n",
    "plt.legend()\n",
    "plt.xlim([-.01,.2])"
   ]
  },
  {
   "cell_type": "code",
   "execution_count": 25,
   "metadata": {},
   "outputs": [],
   "source": [
    "#https://github.com/ktountas/L1-Norm-Algorithms/tree/master\n",
    "def l1pca_sbfk(X, K, num_init, print_flag):\n",
    "\t# Parameters\n",
    "\ttoler =10e-8\n",
    "\n",
    "\t# Get the dimentions of the matrix.\n",
    "\tdataset_matrix_size = X.shape\t\n",
    "\tD = dataset_matrix_size[0]\t# Row dimension.\n",
    "\tN = dataset_matrix_size[1]\t# Column dimension.\n",
    "\n",
    "\t# Initialize the matrix with the SVD.\n",
    "\tdummy, S_x, V_x = svd(X , full_matrices = False)\t# Hint: The singular values are in vector form.\n",
    "\tif D < N:\n",
    "\t\tV_x = V_x.transpose()\n",
    "\t\t\n",
    "\tX_t = np.matmul(np.diag(S_x),V_x.transpose())\n",
    "\n",
    "\t# Initialize the required matrices and vectors.\n",
    "\tBprop = np.ones((N,K),dtype=float)\n",
    "\tnucnormmax = 0\n",
    "\titerations = np.zeros((1,num_init),dtype=float)\n",
    "\n",
    "\t# For each initialization do.\n",
    "\tfor ll in range(0, num_init):\n",
    "\t\t\n",
    "\t\tstart_time = time.time()\t# Start measuring execution time.\n",
    "\n",
    "\t\tv = np.random.randn(N,K)\t# Random initialized vector.\n",
    "\t\tif ll<2:\t# In the first initialization, initialize the B matrix to sign of the product of the first \n",
    "\t\t\t\t\t# right singular vector of the input matrix with an all-ones matrix.\n",
    "\t\t\tz = np.zeros((N,1),dtype=float)\n",
    "\t\t\tz = V_x[:,0]\n",
    "\t\t\tz_x = z.reshape(N,1)\n",
    "\t\t\tv = np.matmul(z_x,np.ones((1,K), dtype=float))\n",
    "\t\tB = np.sign(v)\t# Get a binary vector containing the signs of the elements of v.\n",
    "\n",
    "\t\t# Calculate the nuclear norm of X*B.\n",
    "\t\tX_temp = np.matmul(X_t,B)\n",
    "\t\tdummy1, S, dummy2 = svd(X_temp , full_matrices = False)\n",
    "\t\tnucnorm = np.sum(np.sum(np.diag(S)))\n",
    "\t\tnuckprev = nucnorm*np.ones((K,1), dtype=float)\n",
    "\n",
    "\t\t# While not converged bit flip.\n",
    "\t\titer_ = 0\n",
    "\t\twhile True:\n",
    "\t\t\titer_ = iter_ + 1\n",
    "\n",
    "\t\t\tflag = False\n",
    "\n",
    "\t\t\t# Calculate all the possible binary vectors and all posible bit flips.\n",
    "\t\t\tfor k in range(0, K):\n",
    "\n",
    "\t\t\t\ta = np.zeros((N,1), dtype=float)\n",
    "\n",
    "\t\t\t\tfor n in range(0, N):\n",
    "\t\t\t\t\tB_t = B\n",
    "\t\t\t\t\tB_t[n,k] = -B[n,k]\n",
    "\t\t\t\t\tdummy1, S, dummy2 = svd(np.matmul(X_t,B), full_matrices=False)\n",
    "\t\t\t\t\ta[n] = sum(sum(np.diag(S)))\n",
    "\t\t\t\t\n",
    "\t\t\t\tma = np.max(a)\t# Find which binary vector and bit flips maximize the quadratic.\n",
    "\t\t\t\tif ma > nucnorm:\n",
    "\t\t\t\t\tnc = np.where(a == ma)\n",
    "\t\t\t\t\tB_t[nc[0],k] = -B_t[nc[0],k]\n",
    "\t\t\t\t\tnucnorm = ma\n",
    "\n",
    "\t\t\t\t# If the maximum quadratic is attained, stop iterating.\n",
    "\t\t\t\tif iter_ > 1 and nucnorm<nuckprev[k] + toler:\n",
    "\t\t\t\t\tflag = True\n",
    "\t\t\t\t\tbreak\n",
    "\n",
    "\t\t\t\tnuckprev[k] = nucnorm # Save the calculated nuclear norm of the current initialization.\n",
    "\n",
    "\t\t\tif flag == True:\n",
    "\t\t\t\tbreak\n",
    "\n",
    "\t\t# Find the maximum nuclear norm across all initializations.\n",
    "\t\titerations[0,ll] = iter_\n",
    "\t\tif nucnorm > nucnormmax:\n",
    "\t\t\tnucnormmax = nucnorm\n",
    "\t\t\tBprop = B\n",
    "\n",
    "\t# Calculate the final subspace.\n",
    "\tU, dummy, V = svd(np.matmul(X,Bprop), full_matrices=False)\n",
    "\tUprop = U[:,0:K]\n",
    "\tVprop = V[:,0:K]\n",
    "\tQprop = np.matmul(Uprop,Vprop.transpose())\n",
    "\n",
    "\tend_time = time.time()\t# End of execution timestamp.\n",
    "\ttimelapse = (end_time - start_time)\t# Calculate the time elapsed.\n",
    "\n",
    "\tconvergence_iter = np.mean(iterations, dtype=float) # Calculate the mean iterations per initialization.\n",
    "\tvmax = sum(sum(abs(np.matmul(Qprop.transpose(),X))))\n",
    "\t\n",
    "\t# If print true, print execution statistics.\n",
    "\tif print_flag:\n",
    "\t\tprint(\"------------------------------------------\")\n",
    "\t\tprint(\"Avg. iterations/initialization: \", (convergence_iter))\n",
    "\t\tprint(\"Time elapsed (sec): \", (timelapse))\n",
    "\t\tprint(\"Metric value:\", vmax)\n",
    "\t\tprint(\"------------------------------------------\")\n",
    "\n",
    "\treturn Qprop, Bprop, vmax\n",
    "\n"
   ]
  },
  {
   "cell_type": "code",
   "execution_count": 33,
   "metadata": {},
   "outputs": [],
   "source": [
    "n_in = 100\n",
    "n_out = 60\n",
    "inliers = get_data('runway', n_in)\n",
    "outliers = get_outliers('mobilehomepark', n_out, 0)\n",
    "\n",
    "X_raw = np.vstack([inliers, outliers])\n",
    "\n",
    "pca = PCA(n_components = 50)\n",
    "X = pca.fit_transform(X_raw)\n",
    "\n",
    "column_means = np.mean(X, axis=0)\n",
    "Xcenter = X - column_means\n",
    "\n",
    "labels = np.array([0]*n_in+[1]*n_out)"
   ]
  },
  {
   "cell_type": "code",
   "execution_count": 34,
   "metadata": {},
   "outputs": [],
   "source": [
    "pca = PCA(n_components = 10)\n",
    "pca.fit(Xcenter)\n",
    "Wpca = pca.components_.T\n",
    "\n",
    "pca_errs = []\n",
    "for i in range(len(X_raw)):   \n",
    "    x = Xcenter[[i],:]\n",
    "    pca_errs.append(np.linalg.norm(x @ Wpca @ Wpca.T  - x))\n",
    "    \n",
    "pca_preds = np.array(pca_errs)\n",
    "pca_preds = pca_preds/np.max(pca_preds)"
   ]
  },
  {
   "cell_type": "code",
   "execution_count": 35,
   "metadata": {},
   "outputs": [
    {
     "name": "stdout",
     "output_type": "stream",
     "text": [
      "------------------------------------------\n",
      "Avg. iterations/initialization:  2.78\n",
      "Time elapsed (sec):  0.20350193977355957\n",
      "Metric value: 1139260.936122975\n",
      "------------------------------------------\n"
     ]
    }
   ],
   "source": [
    "\n",
    "\n",
    "Wrpca,_,_ = l1pca_sbfk(Xcenter.T, 10, 200, True)\n",
    "\n",
    "pca_errs = []\n",
    "for i in range(len(X)):   \n",
    "    x = Xcenter[[i],:]\n",
    "    pca_errs.append(np.linalg.norm(x @ Wrpca @ Wrpca.T - x))\n",
    "\n",
    "rpca1_preds = np.array(pca_errs)\n",
    "rpca1_preds = rpca1_preds/np.max(rpca1_preds)\n",
    "\n",
    "# plt.scatter(np.arange(len(wpca_preds)), empca_preds)\n",
    "# plt.scatter(np.arange(len(wpca_preds)), labels)\n",
    "\n"
   ]
  },
  {
   "cell_type": "code",
   "execution_count": 37,
   "metadata": {},
   "outputs": [
    {
     "data": {
      "text/plain": [
       "<matplotlib.legend.Legend at 0x28c7867c0>"
      ]
     },
     "execution_count": 37,
     "metadata": {},
     "output_type": "execute_result"
    },
    {
     "data": {
      "image/png": "[encoded data removed]",
      "text/plain": [
       "<Figure size 432x288 with 1 Axes>"
      ]
     },
     "metadata": {
      "needs_background": "light"
     },
     "output_type": "display_data"
    }
   ],
   "source": [
    "plt.figure()\n",
    "fpr, tpr, _ = roc_curve(labels, pca_preds, drop_intermediate=False)\n",
    "plt.plot(fpr, tpr, label = 'pca')\n",
    "fpr, tpr, _ = roc_curve(labels, rpca1_preds, drop_intermediate=False)\n",
    "plt.plot(fpr, tpr, label = 'rpca base')\n",
    "plt.legend()"
   ]
  },
  {
   "cell_type": "code",
   "execution_count": 12,
   "metadata": {},
   "outputs": [],
   "source": [
    "import r_pca"
   ]
  },
  {
   "cell_type": "code",
   "execution_count": 13,
   "metadata": {},
   "outputs": [],
   "source": [
    "my_rpca = r_pca.R_pca(Xcenter.T)"
   ]
  },
  {
   "cell_type": "code",
   "execution_count": 14,
   "metadata": {},
   "outputs": [
    {
     "name": "stdout",
     "output_type": "stream",
     "text": [
      "iteration: 1, error: 106.35507557208575\n",
      "iteration: 100, error: 0.16567282035548955\n",
      "iteration: 200, error: 0.2340765729634875\n",
      "iteration: 300, error: 0.39206356454608104\n",
      "iteration: 400, error: 0.6301646547243499\n",
      "iteration: 500, error: 0.36007933528946356\n",
      "iteration: 600, error: 0.8612109434845386\n",
      "iteration: 700, error: 0.6282234989243363\n",
      "iteration: 800, error: 0.223987603568921\n",
      "iteration: 900, error: 0.12347630870308174\n",
      "iteration: 1000, error: 0.077824484244242\n",
      "iteration: 1100, error: 0.05342360315191458\n",
      "iteration: 1200, error: 0.09848009701602375\n",
      "iteration: 1300, error: 0.06768503327929133\n",
      "iteration: 1400, error: 0.03442901899529641\n",
      "iteration: 1500, error: 0.04142884487679254\n",
      "iteration: 1600, error: 0.028366898839895814\n",
      "iteration: 1700, error: 0.03743078691997703\n",
      "iteration: 1800, error: 0.02021272024573601\n",
      "iteration: 1900, error: 0.02187462923040487\n",
      "iteration: 2000, error: 0.015941517593462\n",
      "iteration: 2100, error: 0.015439700101326344\n",
      "iteration: 2200, error: 0.013825590736525865\n",
      "iteration: 2300, error: 0.013246863509707286\n",
      "iteration: 2400, error: 0.012921279295872709\n",
      "iteration: 2500, error: 0.011350706002079276\n",
      "iteration: 2600, error: 0.010067799072995343\n",
      "iteration: 2700, error: 0.009177297646043744\n",
      "iteration: 2800, error: 0.008623262148331836\n",
      "iteration: 2900, error: 0.009874251822998106\n",
      "iteration: 3000, error: 0.009392977936556786\n",
      "iteration: 3100, error: 0.007668221963425427\n",
      "iteration: 3200, error: 0.007116758191591371\n",
      "iteration: 3300, error: 0.0070114943044314445\n",
      "iteration: 3400, error: 0.006732937614351217\n",
      "iteration: 3500, error: 0.007174431081731153\n",
      "iteration: 3600, error: 0.006759397770192198\n",
      "iteration: 3700, error: 0.006372930920043919\n",
      "iteration: 3800, error: 0.006034127300575426\n",
      "iteration: 3900, error: 0.005758694977396607\n",
      "iteration: 4000, error: 0.005577623965920708\n",
      "iteration: 4100, error: 0.00600509847344036\n",
      "iteration: 4200, error: 0.005380112883446849\n",
      "iteration: 4300, error: 0.005254396532168454\n",
      "iteration: 4378, error: 0.005098278067507184\n"
     ]
    }
   ],
   "source": [
    "Lk, Sk = my_rpca.fit(max_iter=10000, iter_print=100)"
   ]
  },
  {
   "cell_type": "code",
   "execution_count": 15,
   "metadata": {},
   "outputs": [
    {
     "data": {
      "text/plain": [
       "<matplotlib.legend.Legend at 0x28b511820>"
      ]
     },
     "execution_count": 15,
     "metadata": {},
     "output_type": "execute_result"
    },
    {
     "data": {
      "image/png": "[encoded data removed]",
      "text/plain": [
       "<Figure size 432x288 with 1 Axes>"
      ]
     },
     "metadata": {
      "needs_background": "light"
     },
     "output_type": "display_data"
    }
   ],
   "source": [
    "pca_errs = []\n",
    "for i in range(len(X)):   \n",
    "    pca_errs.append(np.linalg.norm(Lk[:,i]  - Xcenter[i,:]))\n",
    "\n",
    "pcp_preds = np.array(pca_errs)\n",
    "pcp_preds = pcp_preds/np.max(pcp_preds)\n",
    "\n",
    "fpr, tpr, _ = roc_curve(labels, pca_preds, drop_intermediate=False)\n",
    "plt.plot(fpr, tpr, label = 'PCA')\n",
    "\n",
    "fpr, tpr, _ = roc_curve(labels, pcp_preds, drop_intermediate=False)\n",
    "plt.plot(fpr, tpr, label = 'PCP (R_pca)')\n",
    "plt.legend()"
   ]
  },
  {
   "cell_type": "code",
   "execution_count": null,
   "metadata": {},
   "outputs": [],
   "source": []
  },
  {
   "cell_type": "code",
   "execution_count": 22,
   "metadata": {},
   "outputs": [
    {
     "name": "stdout",
     "output_type": "stream",
     "text": [
      "iteration: 1, error: 87.93175341264006\n",
      "iteration: 100, error: 0.1607858076984573\n",
      "iteration: 200, error: 0.20532329552127657\n",
      "iteration: 300, error: 0.26725518036753143\n",
      "iteration: 400, error: 0.3338834396012913\n",
      "iteration: 500, error: 0.30374028364074845\n",
      "iteration: 600, error: 0.4293560044182191\n",
      "iteration: 700, error: 0.2615867404760504\n",
      "iteration: 800, error: 0.20406375836179355\n",
      "iteration: 900, error: 0.09671568645234531\n",
      "iteration: 1000, error: 0.1290998729835686\n",
      "iteration: 1100, error: 0.1800846581130656\n",
      "iteration: 1200, error: 0.0718915578833013\n",
      "iteration: 1300, error: 0.050046108480369736\n",
      "iteration: 1400, error: 0.05308291102146245\n",
      "iteration: 1500, error: 0.04329989529124246\n",
      "iteration: 1600, error: 0.05519708220373365\n",
      "iteration: 1700, error: 0.03673923725426425\n",
      "iteration: 1800, error: 0.04136849189392114\n",
      "iteration: 1900, error: 0.0289677819967007\n",
      "iteration: 2000, error: 0.028439551686414773\n",
      "iteration: 2100, error: 0.029019673309826365\n",
      "iteration: 2200, error: 0.019320660186209815\n",
      "iteration: 2300, error: 0.016887679752575616\n",
      "iteration: 2400, error: 0.014346900807278925\n",
      "iteration: 2500, error: 0.012494669907997902\n",
      "iteration: 2600, error: 0.012618971294388711\n",
      "iteration: 2700, error: 0.01003127455090019\n",
      "iteration: 2800, error: 0.013276052565855795\n",
      "iteration: 2900, error: 0.008532133305166318\n",
      "iteration: 3000, error: 0.007939830294898496\n",
      "iteration: 3100, error: 0.010825157686674755\n",
      "iteration: 3200, error: 0.007071563727538817\n",
      "iteration: 3300, error: 0.006763750518220746\n",
      "iteration: 3400, error: 0.006813258741049907\n",
      "iteration: 3500, error: 0.007281872766047497\n",
      "iteration: 3600, error: 0.007184846417487009\n",
      "iteration: 3700, error: 0.007347966823219088\n",
      "iteration: 3800, error: 0.007764226584194758\n",
      "iteration: 3900, error: 0.007881255205449359\n",
      "iteration: 4000, error: 0.00848148067345878\n",
      "iteration: 4100, error: 0.008859835156202946\n",
      "iteration: 4200, error: 0.009088890966100275\n",
      "iteration: 4300, error: 0.009986248731709316\n",
      "iteration: 4400, error: 0.010807563104685723\n",
      "iteration: 4500, error: 0.010799873335376757\n",
      "iteration: 4600, error: 0.010196750335700567\n",
      "iteration: 4700, error: 0.010492263453496445\n",
      "iteration: 4800, error: 0.013253509061687064\n",
      "iteration: 4900, error: 0.012342388130165603\n",
      "iteration: 5000, error: 0.012169924695970299\n",
      "iteration: 5100, error: 0.012240932344829893\n",
      "iteration: 5200, error: 0.011914761095301618\n",
      "iteration: 5300, error: 0.01048500895459388\n",
      "iteration: 5400, error: 0.00866884729143185\n",
      "iteration: 5500, error: 0.007027255294931641\n",
      "iteration: 5600, error: 0.005550970238003545\n",
      "iteration: 5691, error: 0.004456105588379954\n"
     ]
    },
    {
     "data": {
      "text/plain": [
       "<matplotlib.legend.Legend at 0x28b625280>"
      ]
     },
     "execution_count": 22,
     "metadata": {},
     "output_type": "execute_result"
    },
    {
     "data": {
      "image/png": "[encoded data removed]",
      "text/plain": [
       "<Figure size 432x288 with 1 Axes>"
      ]
     },
     "metadata": {
      "needs_background": "light"
     },
     "output_type": "display_data"
    }
   ],
   "source": [
    "Xnew = Xcenter.copy()\n",
    "\n",
    "n1, n2 = Xcenter.shape\n",
    "np.random.seed(123)\n",
    "S = np.random.rand(n1, n2)\n",
    "Xnew[S < 0.2] = 0\n",
    "\n",
    "pca = PCA(n_components = 10)\n",
    "pca.fit(Xnew)\n",
    "Wpca = pca.components_.T\n",
    "\n",
    "pca2_errs = []\n",
    "for i in range(len(X_raw)):   \n",
    "    x = Xnew[[i],:]\n",
    "    pca2_errs.append(np.linalg.norm(x @ Wpca @ Wpca.T  - x))\n",
    "    \n",
    "pca2_preds = np.array(pca2_errs)\n",
    "pca2_preds = pca2_preds/np.max(pca2_preds)\n",
    "\n",
    "plt.figure()\n",
    "fpr2, tpr2, _ = roc_curve(labels, pca2_preds, drop_intermediate=False)\n",
    "plt.plot(fpr2, tpr2, label = 'PCA')\n",
    "\n",
    "\n",
    "my_rpca = r_pca.R_pca(Xnew.T)\n",
    "Lk, Sk = my_rpca.fit(max_iter=10000, iter_print=100)\n",
    "\n",
    "pca1_errs = []\n",
    "for i in range(len(X_raw)):   \n",
    "    pca1_errs.append(np.linalg.norm(Lk[:,i]  - Xnew[i,:]))\n",
    "    \n",
    "pca1_preds = np.array(pca1_errs)\n",
    "pca1_preds = pca1_preds/np.max(pca1_preds)\n",
    "\n",
    "\n",
    "fpr1, tpr1, _ = roc_curve(labels, pca1_preds, drop_intermediate=False)\n",
    "plt.plot(fpr1, tpr1, label = 'R_pca')\n",
    "plt.legend()"
   ]
  },
  {
   "cell_type": "code",
   "execution_count": 23,
   "metadata": {},
   "outputs": [
    {
     "name": "stdout",
     "output_type": "stream",
     "text": [
      "ymin: -4443.756837778099, ymax: 5575.765884419621\n"
     ]
    },
    {
     "data": {
      "image/png": "[encoded data removed]",
      "text/plain": [
       "<Figure size 432x288 with 50 Axes>"
      ]
     },
     "metadata": {
      "needs_background": "light"
     },
     "output_type": "display_data"
    }
   ],
   "source": [
    "my_rpca.plot_fit()"
   ]
  },
  {
   "cell_type": "code",
   "execution_count": 24,
   "metadata": {},
   "outputs": [
    {
     "name": "stdout",
     "output_type": "stream",
     "text": [
      "iteration: 1, error: 510.42070629365554\n",
      "iteration: 100, error: 8.992059473626492\n",
      "iteration: 200, error: 2.137513578951175\n",
      "iteration: 300, error: 1.149760848731435\n",
      "iteration: 400, error: 0.5630964004817011\n",
      "iteration: 500, error: 0.29687126338306524\n",
      "iteration: 600, error: 0.23265662126860323\n",
      "iteration: 700, error: 0.2960295324579639\n",
      "iteration: 800, error: 0.35783801998523795\n",
      "iteration: 900, error: 0.3786421965282994\n",
      "iteration: 1000, error: 0.11027079689233546\n",
      "iteration: 1100, error: 0.026629865397166542\n",
      "iteration: 1200, error: 0.007213564910558505\n",
      "iteration: 1238, error: 0.0044553985507882355\n"
     ]
    },
    {
     "data": {
      "text/plain": [
       "<matplotlib.legend.Legend at 0x28bbb8a60>"
      ]
     },
     "execution_count": 24,
     "metadata": {},
     "output_type": "execute_result"
    },
    {
     "data": {
      "image/png": "[encoded data removed]",
      "text/plain": [
       "<Figure size 432x288 with 1 Axes>"
      ]
     },
     "metadata": {
      "needs_background": "light"
     },
     "output_type": "display_data"
    }
   ],
   "source": [
    "\n",
    "\n",
    "plt.figure()\n",
    "plt.plot(fpr2, tpr2, label = 'PCA')\n",
    "\n",
    "\n",
    "my_rpca = r_pca.R_pca(Xnew)\n",
    "Lk, Sk = my_rpca.fit(max_iter=10000, iter_print=100)\n",
    "\n",
    "pca1_errs = []\n",
    "for i in range(len(X_raw)):   \n",
    "    pca1_errs.append(np.linalg.norm(Lk[i,:]  - Xnew[i,:]))\n",
    "    \n",
    "pca1_preds = np.array(pca1_errs)\n",
    "pca1_preds = pca1_preds/np.max(pca1_preds)\n",
    "\n",
    "\n",
    "fpr1, tpr1, _ = roc_curve(labels, pca1_preds, drop_intermediate=False)\n",
    "plt.plot(fpr1, tpr1, label = 'R_pca')\n",
    "plt.legend()"
   ]
  },
  {
   "cell_type": "code",
   "execution_count": null,
   "metadata": {},
   "outputs": [],
   "source": [
    "my_rpca.plot_fit()"
   ]
  },
  {
   "cell_type": "markdown",
   "metadata": {},
   "source": [
    "$$ ||X - (S + L)|| $$\n",
    "\n",
    "$$ ||X^T  - (S'+L')|| $$"
   ]
  },
  {
   "cell_type": "markdown",
   "metadata": {},
   "source": [
    "$$ \\| x_i  - l_i \\|$$"
   ]
  },
  {
   "cell_type": "code",
   "execution_count": null,
   "metadata": {},
   "outputs": [],
   "source": []
  },
  {
   "cell_type": "code",
   "execution_count": null,
   "metadata": {},
   "outputs": [],
   "source": []
  },
  {
   "cell_type": "code",
   "execution_count": 116,
   "metadata": {},
   "outputs": [],
   "source": [
    "from scipy.linalg import eigh\n",
    "def WPCA_L2(X, k, init_seed = 123, eps_wt = 1e-8 , eps: float = 1e-10,  max_iter: int = 1000):\n",
    "\n",
    "    n,p = X.shape\n",
    "\n",
    "    U,_,_ = np.linalg.svd(X)\n",
    "    W = U[:,:k]\n",
    "\n",
    "    dJ = 1\n",
    "    J = 0\n",
    "    i=1\n",
    "\n",
    "    while i < max_iter and dJ > eps*J:\n",
    "\n",
    "        W0 = W.copy()\n",
    "        J = np.sum(np.linalg.norm(X.T - X.T @ W0 @ W0.T, axis = 1))\n",
    "    \n",
    "        D = np.zeros((p,p))\n",
    "        for i in range(p):\n",
    "            x = X[:,[i]]\n",
    "            wt = np.linalg.norm(x - W0 @ W0.T @ x)\n",
    "            wt = np.max([wt,eps_wt])\n",
    "            D[i,i] = 1/wt\n",
    "        \n",
    "        C = X @ D @ X.T\n",
    "\n",
    "        _, Wall = eigh(C)\n",
    "\n",
    "        W = Wall[:,-k:]\n",
    "\n",
    "        Bj = np.sum(np.linalg.norm(X.T - X.T @ W @ W.T, axis = 1))\n",
    "        \n",
    "\n",
    "        dJ = J - Bj\n",
    "        i+=1\n",
    "\n",
    "\n",
    "    return W\n"
   ]
  },
  {
   "cell_type": "code",
   "execution_count": 132,
   "metadata": {},
   "outputs": [
    {
     "data": {
      "text/plain": [
       "(-0.01, 0.2)"
      ]
     },
     "execution_count": 132,
     "metadata": {},
     "output_type": "execute_result"
    },
    {
     "data": {
      "image/png": "[encoded data removed]",
      "text/plain": [
       "<Figure size 432x288 with 1 Axes>"
      ]
     },
     "metadata": {
      "needs_background": "light"
     },
     "output_type": "display_data"
    }
   ],
   "source": [
    "\n",
    "\n",
    "Wwpca = WPCA_L2(Xcenter.T, 2)\n",
    "\n",
    "\n",
    "pca_errs = []\n",
    "for i in range(len(X)):   \n",
    "    x = Xcenter[[i],:]\n",
    "    pca_errs.append(np.linalg.norm(x @ Wwpca @ Wwpca.T - x))\n",
    "\n",
    "nwpca_preds = np.array(pca_errs)\n",
    "nwpca_preds = nwpca_preds/np.max(nwpca_preds)\n",
    "\n",
    "# plt.scatter(np.arange(len(wpca_preds)), nwpca_preds)\n",
    "# plt.scatter(np.arange(len(wpca_preds)), labels)\n",
    "\n",
    "plt.figure()\n",
    "fpr, tpr, _ = roc_curve(labels, pca_preds, drop_intermediate=False)\n",
    "plt.plot(fpr, tpr, label = 'pca')\n",
    "\n",
    "fpr, tpr, _ = roc_curve(labels, nwpca_preds, drop_intermediate=False)\n",
    "plt.plot(fpr, tpr, label = 'Nate WPCA')\n",
    "\n",
    "plt.legend()\n",
    "plt.xlim([-.01,.2])"
   ]
  },
  {
   "cell_type": "code",
   "execution_count": 114,
   "metadata": {},
   "outputs": [
    {
     "data": {
      "text/plain": [
       "(-0.01, 0.2)"
      ]
     },
     "execution_count": 114,
     "metadata": {},
     "output_type": "execute_result"
    },
    {
     "data": {
      "image/png": "[encoded data removed]",
      "text/plain": [
       "<Figure size 432x288 with 1 Axes>"
      ]
     },
     "metadata": {
      "needs_background": "light"
     },
     "output_type": "display_data"
    }
   ],
   "source": [
    "linestyles = ['solid', '--', '-.', ':', 'solid', 'dashed', 'dashdot', 'dotted', (0, (3, 1, 1, 1)), (0, (5, 2)), (0, (3, 1, 1, 1, 1, 1)), (0, (5, 2, 1, 2)), (0, (3, 1, 1, 1, 1, 1, 1, 1))]\n",
    "\n",
    "ii=0\n",
    "fpr, tpr, _ = roc_curve(labels, pca_preds, drop_intermediate=False)\n",
    "plt.plot(fpr, tpr, label = 'PCA', alpha = .5, linestyle = linestyles[ii])\n",
    "ii+=1\n",
    "\n",
    "# fpr, tpr, _ = roc_curve(labels, spca_preds, drop_intermediate=False)\n",
    "# plt.plot(fpr, tpr, label = 'The PCA', alpha = .5, linestyle = linestyles[ii])\n",
    "# ii+=1\n",
    "\n",
    "fpr, tpr, _ = roc_curve(labels, rpca_preds, drop_intermediate=False)\n",
    "plt.plot(fpr, tpr, label = 'RPCA', alpha = .5, linestyle = linestyles[ii])\n",
    "ii+=1\n",
    "\n",
    "fpr, tpr, _ = roc_curve(labels, wpca_preds, drop_intermediate=False)\n",
    "plt.plot(fpr, tpr, label = 'WPCA', alpha = .5, linestyle = linestyles[ii])\n",
    "ii+=1\n",
    "\n",
    "fpr, tpr, _ = roc_curve(labels, nwpca_preds, drop_intermediate=False)\n",
    "plt.plot(fpr, tpr, label = 'Nate WPCA', alpha = .5, linestyle = linestyles[ii])\n",
    "ii+=1\n",
    "\n",
    "fpr, tpr, _ = roc_curve(labels, empca_preds, drop_intermediate=False)\n",
    "plt.plot(fpr, tpr, label = 'EMPCA', alpha = .5, linestyle = linestyles[ii])\n",
    "ii+=1\n",
    "\n",
    "fpr, tpr, _ = roc_curve(labels, dpcp_preds, drop_intermediate=False)\n",
    "plt.plot(fpr, tpr, label = 'fDPCP(1,40)', alpha = .5, linestyle = linestyles[ii])\n",
    "ii+=1\n",
    "\n",
    "plt.legend()\n",
    "plt.xlim([-.01,.2])"
   ]
  },
  {
   "cell_type": "code",
   "execution_count": null,
   "metadata": {},
   "outputs": [],
   "source": []
  },
  {
   "cell_type": "code",
   "execution_count": null,
   "metadata": {},
   "outputs": [],
   "source": []
  }
 ],
 "metadata": {
  "kernelspec": {
   "display_name": "Python 3",
   "language": "python",
   "name": "python3"
  },
  "language_info": {
   "codemirror_mode": {
    "name": "ipython",
    "version": 3
   },
   "file_extension": ".py",
   "mimetype": "text/x-python",
   "name": "python",
   "nbconvert_exporter": "python",
   "pygments_lexer": "ipython3",
   "version": "3.8.9"
  }
 },
 "nbformat": 4,
 "nbformat_minor": 2
}
