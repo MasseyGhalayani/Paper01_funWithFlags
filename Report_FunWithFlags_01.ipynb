{
 "cells": [
  {
   "cell_type": "markdown",
   "source": [
    "## Introduction Fun with Flags\n",
    "\n",
    "This paper gives Principal Component Analysis (PCA) a fresh upgrade using flag manifolds, making it better at handling noisy and messy data. The authors introduce \"flagification,\" a framework that organizes PCA into a versatile method for both clean and challenging datasets. Using flag manifolds, they create efficient algorithms capable of handling everything from noisy images to curved spaces.\n",
    "\n",
    "Table 3 compares traditional PCA methods (like L1-RPCA) with the new \"flagified\" ones (fRPCA, etc.), showing that the flagified methods perform as well or better while often being faster—especially for robust PCA tasks. In short, this paper makes PCA more powerful, flexible, and reliable, with results that prove it works in practice."
   ],
   "metadata": {
    "collapsed": false
   },
   "id": "4fb40a0feec941a2"
  },
  {
   "cell_type": "markdown",
   "source": [
    "## Step 1 - setting up the env\n"
   ],
   "metadata": {
    "collapsed": false
   },
   "id": "dc354f66f9189db6"
  },
  {
   "cell_type": "code",
   "execution_count": 8,
   "outputs": [
    {
     "name": "stdout",
     "output_type": "stream",
     "text": [
      "56455e7 changing a name of the env from base to fun-flags\n",
      "84a5e9f optimizing the env, because it wasn't solved, in conda as ReadMe.md suggest it\n",
      "ed24003 fixing table4 imports\n",
      "7f6ca10 making a test.py for testing the new environment\n",
      "7dba285 saving the working environment as environment.yml\n"
     ]
    }
   ],
   "source": [
    "!git log --author=masseygh --oneline --reverse\n"
   ],
   "metadata": {
    "collapsed": false,
    "ExecuteTime": {
     "end_time": "2025-01-26T15:23:05.716168500Z",
     "start_time": "2025-01-26T15:23:05.652691100Z"
    }
   },
   "id": "35865e59dcc42e38"
  }
 ],
 "metadata": {
  "kernelspec": {
   "display_name": "Python 3",
   "language": "python",
   "name": "python3"
  },
  "language_info": {
   "codemirror_mode": {
    "name": "ipython",
    "version": 2
   },
   "file_extension": ".py",
   "mimetype": "text/x-python",
   "name": "python",
   "nbconvert_exporter": "python",
   "pygments_lexer": "ipython2",
   "version": "2.7.6"
  }
 },
 "nbformat": 4,
 "nbformat_minor": 5
}
