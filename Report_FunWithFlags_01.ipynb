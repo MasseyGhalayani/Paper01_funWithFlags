{
 "cells": [
  {
   "cell_type": "markdown",
   "source": [
    "## Introduction Fun with Flags\n",
    "\n",
    "This paper gives Principal Component Analysis (PCA) a fresh upgrade using flag manifolds, making it better at handling noisy and messy data. The authors introduce \"flagification,\" a framework that organizes PCA into a versatile method for both clean and challenging datasets. Using flag manifolds, they create efficient algorithms capable of handling everything from noisy images to curved spaces.\n",
    "\n",
    "Table 3 compares traditional PCA methods (like L1-RPCA) with the new \"flagified\" ones (fRPCA, etc.), showing that the flagified methods perform as well or better while often being faster; especially for robust PCA tasks. In short, this paper makes PCA more powerful, flexible, and reliable, with results that prove it works in practice."
   ],
   "metadata": {
    "collapsed": false
   },
   "id": "4fb40a0feec941a2"
  },
  {
   "cell_type": "markdown",
   "source": [
    "## Step 1 - setting up the env\n"
   ],
   "metadata": {
    "collapsed": false
   },
   "id": "dc354f66f9189db6"
  },
  {
   "cell_type": "code",
   "execution_count": 16,
   "outputs": [
    {
     "name": "stdout",
     "output_type": "stream",
     "text": [
      "Retrieving notices: ...working... done\n"
     ]
    },
    {
     "name": "stderr",
     "output_type": "stream",
     "text": [
      "\n",
      "EnvironmentFileNotFound: 'E:\\Reproduce\\FunWithFlags\\enviorment.yml' file not found\n",
      "\n"
     ]
    }
   ],
   "source": [
    "!conda env create -f environment.yml\n",
    "!conda activate fun-flags"
   ],
   "metadata": {
    "collapsed": false,
    "ExecuteTime": {
     "end_time": "2025-01-26T18:07:36.145240300Z",
     "start_time": "2025-01-26T18:07:33.713987700Z"
    }
   },
   "id": "13748d694802716b"
  },
  {
   "cell_type": "code",
   "execution_count": 15,
   "outputs": [
    {
     "name": "stdout",
     "output_type": "stream",
     "text": [
      "56455e7 changing a name of the env from base to fun-flags\n",
      "5a142dd optimizing the env, because it wouldn't solve as ReadMe.md instructed to do.\n",
      "7b60a9b fixing table4 imports\n",
      "ad24aa3 making a test.py for testing the new environment\n",
      "881004c saving the working environment as environment.yml\n",
      "9f719fd adding the report\n",
      "9899888 testing the scripts\n",
      "81050e0 completing the report\n",
      "1fdcc0f adding table3.png from the paper to Results folder\n"
     ]
    }
   ],
   "source": [
    "!git log --author=masseygh --oneline --reverse\n"
   ],
   "metadata": {
    "collapsed": false,
    "ExecuteTime": {
     "end_time": "2025-01-26T18:07:31.397336300Z",
     "start_time": "2025-01-26T18:07:31.325873300Z"
    }
   },
   "id": "35865e59dcc42e38"
  },
  {
   "cell_type": "markdown",
   "source": [
    "## Step 2 - Run the evaluation Scripts"
   ],
   "metadata": {
    "collapsed": false
   },
   "id": "a07b7017ca11bc32"
  },
  {
   "cell_type": "code",
   "execution_count": 8,
   "outputs": [
    {
     "name": "stdout",
     "output_type": "stream",
     "text": [
      "                  L1-RPCA Obj.↑  L1-RPCA Time  L2-WPCA Obj.↓  L2-WPCA Time  \\\n",
      "0       Baseline      54.690021     87.566530      42.885916         0.127   \n",
      "1  Flag (Alg. 1)      54.654985      0.215001      42.917794         0.477   \n",
      "\n",
      "   L2-DPCP Obj.↓  L2-DPCP Time  \n",
      "0      34.834252         0.089  \n",
      "1      34.659258         0.413  \n"
     ]
    }
   ],
   "source": [
    "import pandas as pd\n",
    "import numpy as np\n",
    "from scipy.linalg import svd, eigh\n",
    "import time\n",
    "\n",
    "\n",
    "import sys\n",
    "sys.path.append('../')\n",
    "from scripts import flag_dimensionality_reduction as fdr\n",
    "\n",
    "# Define the baseline algorithms\n",
    "def WPCA_L2(X, k, init_seed=123, eps_wt=1e-8, eps=1e-10, max_iter=1000):\n",
    "    n, p = X.shape\n",
    "    U, _, _ = np.linalg.svd(X)\n",
    "    W = U[:, :k]\n",
    "    dJ, J, i = 1, 0, 1\n",
    "    while i < max_iter and dJ > eps * J:\n",
    "        W0 = W.copy()\n",
    "        J = np.sum(np.linalg.norm(X.T - X.T @ W0 @ W0.T, axis=1))\n",
    "        D = np.zeros((p, p))\n",
    "        for j in range(p):\n",
    "            x = X[:, [j]]\n",
    "            wt = np.linalg.norm(x - W0 @ W0.T @ x)\n",
    "            D[j, j] = 1 / max(wt, eps_wt)\n",
    "        C = X @ D @ X.T\n",
    "        _, Wall = eigh(C)\n",
    "        W = Wall[:, -k:]\n",
    "        Bj = np.sum(np.linalg.norm(X.T - X.T @ W @ W.T, axis=1))\n",
    "        dJ = J - Bj\n",
    "        i += 1\n",
    "    return W\n",
    "\n",
    "def dpcp_irls(X, k, eps=1e-10, delta=1e-8, max_iter=100):\n",
    "    n_pts = X.shape[1]\n",
    "    U, _, _ = np.linalg.svd(X)\n",
    "    B0 = U[:, -k:]\n",
    "    J, dJ, i = 0, 1, 0\n",
    "    while i < max_iter and dJ > eps * J:\n",
    "        J = np.sum(np.linalg.norm(X.T @ B0, axis=1))\n",
    "        wts = [np.sqrt(1 / max(delta, np.linalg.norm(B0.T @ X[:, [j]]))) for j in range(n_pts)]\n",
    "        W = np.diag(np.hstack(wts))\n",
    "        U, _, _ = np.linalg.svd(X @ W)\n",
    "        B = U[:, -k:]\n",
    "        Bj = np.sum(np.linalg.norm(X.T @ B, axis=1))\n",
    "        dJ = J - Bj\n",
    "        B0 = B\n",
    "        i += 1\n",
    "    return B0\n",
    "\n",
    "# RPCA Code\n",
    "# translated from https://github.com/Markopoulos-Research/Efficient-L1-Norm-Principal-Component-Analysis-via-Bit-Flipping\n",
    "\n",
    "def rpca_l1(X, K, num_init, print_flag):\n",
    "    # Parameters\n",
    "    toler =10e-8\n",
    "\n",
    "    # Get the dimensions of the matrix.\n",
    "    D = X.shape[0]\t# Row dimension.\n",
    "    N = X.shape[1]\t# Column dimension.\n",
    "\n",
    "    # Initialize the matrix with the SVD.\n",
    "    _, S_x, V_x = svd(X , full_matrices = False)\t# Hint: The singular values are in vector form.\n",
    "    if D < N:\n",
    "        V_x = V_x.T\n",
    "    \n",
    "    Y = np.diag(S_x)@V_x.T # X_t is Y = S*V'\n",
    "    # Initialize the required matrices and vectors.\n",
    "    Bprop = np.ones((N,K),dtype=float)\n",
    "    nucnormmax = 0\n",
    "    iterations = np.zeros((1,num_init),dtype=float)\n",
    "    # For each initialization do.\n",
    "    for ll in range(0, num_init):\n",
    "\n",
    "        start_time = time.time()\t# Start measuring execution time.\n",
    "\n",
    "        z = X.T @ np.random.randn(D,1)\t# Random initialized vector.\n",
    "        if ll<1:    # In the first initialization, initialize the B matrix to sign of the product of the first\n",
    "                    # right singular vector of the input matrix with an all-ones matrix.\n",
    "            z = V_x[:,0]\n",
    "            z = z.reshape(N,1)\n",
    "        v = z@np.ones((1,K), dtype=float)\n",
    "        v = np.random.randn(N,K)\n",
    "        B = np.sign(v)\t# Get a binary vector containing the signs of the elements of v.\n",
    "\n",
    "        iter_ = 0\n",
    "        L = list(range(N * K))\n",
    "\n",
    "        while True:\n",
    "            iter_ = iter_ + 1\n",
    "            # Calculate all the possible binary vectors and all possible bit flips.\n",
    "\n",
    "            a = np.zeros((N,K)) # nuclear norm of when the (m,l)th bit of B is flipped\n",
    "            \n",
    "            nucnorm = np.linalg.norm(Y@B, 'nuc')\n",
    "            \n",
    "            for x in L:\n",
    "                l = x//N\n",
    "                m = x-N*l\n",
    "                elK = np.zeros(K)\n",
    "                elK[l] = 1\n",
    "                a[m,l] = np.linalg.norm(Y@B - 2*B[m,l]*(Y[:,m,None]@ [elK]), 'nuc')\n",
    "            nucnorm_flip = np.max(a) # Choose the largest nuclear norm of YB\n",
    "\n",
    "            n,k = np.unravel_index(np.nanargmax(a, axis=None), a.shape) # Pick the best bit flip\n",
    "\n",
    "            if nucnorm_flip > nucnorm: # If the best bit flip increases the nuclear norm of YB, then flip the bit\n",
    "                B[n,k] = -B[n,k]\n",
    "                L.remove(k*N+n) # No longer flip that (n,k) bit\n",
    "            elif nucnorm_flip <= nucnorm + toler and len(L)<N*K: # Else, but there has been bit-flips, reset bit-flipping process\n",
    "                L = list(range(N*K))\n",
    "            else:\n",
    "                break\n",
    "\n",
    "        # Calculate the final subspace.\n",
    "        U, _, V = svd(X@B, full_matrices=False)\n",
    "        Utemp = U[:,0:K]\n",
    "        Vtemp = V[:,0:K]\n",
    "        Q = Utemp@Vtemp.T\n",
    "        \n",
    "        nucnorm = sum(sum(abs(Q.T@X)))\n",
    "        \n",
    "        # Find the maximum nuclear norm across all initializations.\n",
    "        if nucnorm > nucnormmax:\n",
    "            nucnormmax = nucnorm\n",
    "            Bprop = B\n",
    "            Qprop = Q\n",
    "            vmax = nucnorm\n",
    "        iterations[0,ll] = iter_\n",
    "\n",
    "    end_time = time.time()\t# End of execution timestamp.\n",
    "    timelapse = (end_time - start_time)\t# Calculate the time elapsed.\n",
    "\n",
    "    convergence_iter = np.mean(iterations, dtype=float) # Calculate the mean iterations per initialization.\n",
    "    \n",
    "    if print_flag:\n",
    "        print(\"------------------------------------------\")\n",
    "        print(\"Avg. iterations/initialization: \", (convergence_iter))\n",
    "        print(\"Time elapsed (sec):\", (timelapse))\n",
    "        print(\"Metric value:\", vmax)\n",
    "        print(\"------------------------------------------\")\n",
    "\n",
    "    return Qprop, Bprop, vmax\n",
    "\n",
    "# Dataset generation\n",
    "n, p = 5, 100\n",
    "np.random.seed(189)\n",
    "X = np.random.rand(n, p)\n",
    "Xcenter = X - X.mean(axis=1, keepdims=True)\n",
    "Xunit = np.vstack([x / np.linalg.norm(x) for x in X.T]).T\n",
    "\n",
    "# Initialize results\n",
    "results = {\"Method\": [\"Baseline\", \"Flag (Alg. 1)\"]}\n",
    "\n",
    "# L1-RPCA\n",
    "pca_type, fl_type = 'rpca', [1, 2]\n",
    "eyes = fdr.construct_eyes(fl_type)\n",
    "\n",
    "# Baseline L1-RPCA\n",
    "start = time.time()\n",
    "Wbase, _, _ = rpca_l1(Xcenter, 2, 200, False)  # Baseline method\n",
    "elapsed_time = time.time() - start\n",
    "objective = fdr.objective_val(Xcenter, Wbase, eyes, pca_type)\n",
    "results[\"L1-RPCA\"] = [(objective, elapsed_time)]\n",
    "\n",
    "# Flag L1-RPCA\n",
    "start = time.time()\n",
    "Wflag, _, _ = fdr.flag_robust_pca(Xcenter, fl_type, pca_type, verbose=False, return_all=True, max_iters=200, init=\"rand\")\n",
    "elapsed_time = time.time() - start\n",
    "objective = fdr.objective_val(Xcenter, Wflag, eyes, pca_type)\n",
    "results[\"L1-RPCA\"].append((objective, elapsed_time))\n",
    "\n",
    "# L2-WPCA\n",
    "pca_type, fl_type = 'wpca', [2]\n",
    "eyes = fdr.construct_eyes(fl_type)\n",
    "\n",
    "# Baseline L2-WPCA\n",
    "start = time.time()\n",
    "Wbase = WPCA_L2(Xcenter, fl_type[-1])  # Baseline method\n",
    "elapsed_time = time.time() - start\n",
    "objective = fdr.objective_val(Xcenter, Wbase, eyes, pca_type)\n",
    "results[\"L2-WPCA\"] = [(objective, elapsed_time)]\n",
    "\n",
    "# Flag L2-WPCA\n",
    "start = time.time()\n",
    "Wflag, _, _ = fdr.flag_robust_pca(Xcenter, fl_type, pca_type, verbose=False, return_all=True, max_iters=200, init=\"rand\")\n",
    "elapsed_time = time.time() - start\n",
    "objective = fdr.objective_val(Xcenter, Wflag, eyes, pca_type)\n",
    "results[\"L2-WPCA\"].append((objective, elapsed_time))\n",
    "\n",
    "# L2-DPCP\n",
    "pca_type, fl_type = 'dpcp', [2]\n",
    "eyes = fdr.construct_eyes(fl_type)\n",
    "\n",
    "# Baseline L2-DPCP\n",
    "start = time.time()\n",
    "Wbase = dpcp_irls(Xunit, fl_type[-1])  # Baseline method\n",
    "elapsed_time = time.time() - start\n",
    "objective = fdr.objective_val(Xcenter, Wbase, eyes, pca_type)\n",
    "results[\"L2-DPCP\"] = [(objective, elapsed_time)]\n",
    "\n",
    "# Flag L2-DPCP\n",
    "start = time.time()\n",
    "Wflag, _, _ = fdr.flag_robust_pca(Xunit, fl_type, pca_type, verbose=False, return_all=True, max_iters=200, init=\"rand\")\n",
    "elapsed_time = time.time() - start\n",
    "objective = fdr.objective_val(Xcenter, Wflag, eyes, pca_type)\n",
    "results[\"L2-DPCP\"].append((objective, elapsed_time))\n",
    "\n",
    "# Format results as a DataFrame for Table 3\n",
    "table_data = {\n",
    "    \" \": [\"Baseline\", \"Flag (Alg. 1)\"],\n",
    "    \"L1-RPCA Obj.↑\": [results[\"L1-RPCA\"][0][0], results[\"L1-RPCA\"][1][0]],\n",
    "    \"L1-RPCA Time\": [results[\"L1-RPCA\"][0][1], results[\"L1-RPCA\"][1][1]],\n",
    "    \"L2-WPCA Obj.↓\": [results[\"L2-WPCA\"][0][0], results[\"L2-WPCA\"][1][0]],\n",
    "    \"L2-WPCA Time\": [results[\"L2-WPCA\"][0][1], results[\"L2-WPCA\"][1][1]],\n",
    "    \"L2-DPCP Obj.↓\": [results[\"L2-DPCP\"][0][0], results[\"L2-DPCP\"][1][0]],\n",
    "    \"L2-DPCP Time\": [results[\"L2-DPCP\"][0][1], results[\"L2-DPCP\"][1][1]],\n",
    "}\n",
    "\n",
    "df = pd.DataFrame(table_data)\n",
    "\n",
    "# Display and save the table\n",
    "print(df)\n",
    "\n"
   ],
   "metadata": {
    "collapsed": false,
    "ExecuteTime": {
     "end_time": "2025-01-26T17:42:25.139889Z",
     "start_time": "2025-01-26T17:40:56.220371500Z"
    }
   },
   "id": "fea29792f1a5ed8"
  },
  {
   "cell_type": "markdown",
   "source": [
    "## Table3 from the paper\n",
    "you would notice that the time in the table 3 that we reproduced is different from the time that they put in the table3 in the paper, but that's due to the diffrent hardware that we are using, and if you consider the ratio of the compared times, it's almost the same."
   ],
   "metadata": {
    "collapsed": false
   },
   "id": "a7fe90860399354f"
  },
  {
   "cell_type": "code",
   "execution_count": 17,
   "outputs": [
    {
     "data": {
      "text/html": "<img src=\"./Results/table3.png\"/>",
      "text/plain": "<IPython.core.display.Image object>"
     },
     "execution_count": 17,
     "metadata": {},
     "output_type": "execute_result"
    }
   ],
   "source": [
    "from IPython.display import Image\n",
    "from IPython.core.display import HTML \n",
    "Image(url= \"./Results/table3.png\")"
   ],
   "metadata": {
    "collapsed": false,
    "ExecuteTime": {
     "end_time": "2025-01-26T22:06:44.471820300Z",
     "start_time": "2025-01-26T22:06:44.451787500Z"
    }
   },
   "id": "fe1c4738c5450f9f"
  },
  {
   "cell_type": "code",
   "execution_count": null,
   "outputs": [],
   "source": [],
   "metadata": {
    "collapsed": false
   },
   "id": "75f09f071e7583a9"
  }
 ],
 "metadata": {
  "kernelspec": {
   "display_name": "Python 3",
   "language": "python",
   "name": "python3"
  },
  "language_info": {
   "codemirror_mode": {
    "name": "ipython",
    "version": 2
   },
   "file_extension": ".py",
   "mimetype": "text/x-python",
   "name": "python",
   "nbconvert_exporter": "python",
   "pygments_lexer": "ipython2",
   "version": "2.7.6"
  }
 },
 "nbformat": 4,
 "nbformat_minor": 5
}
