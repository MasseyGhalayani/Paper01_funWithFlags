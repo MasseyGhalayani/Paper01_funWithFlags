{
 "cells": [
  {
   "cell_type": "code",
   "execution_count": 1,
   "metadata": {},
   "outputs": [],
   "source": [
    "import numpy as np\n",
    "from matplotlib import pyplot as plt\n",
    "\n",
    "import pandas as pd\n",
    "\n",
    "import random\n",
    "import os\n",
    "import cv2\n",
    "from sklearn.metrics import roc_curve, auc\n",
    "\n",
    "\n",
    "import sys\n",
    "sys.path.append('../scripts')\n",
    "from utils import *"
   ]
  },
  {
   "cell_type": "code",
   "execution_count": 2,
   "metadata": {},
   "outputs": [],
   "source": [
    "def tolerant_mean(arrs):\n",
    "    lens = [len(i) for i in arrs]\n",
    "    arr = np.ma.empty((np.max(lens),len(arrs)))\n",
    "    arr.mask = True\n",
    "    for idx, l in enumerate(arrs):\n",
    "        arr[:len(l),idx] = l\n",
    "    return arr.mean(axis = -1)"
   ]
  },
  {
   "cell_type": "code",
   "execution_count": 3,
   "metadata": {},
   "outputs": [],
   "source": [
    "def get_curves(face_ids, n_out: int, trials: list = [0], pca_type: str = 'pca_all', base_dir: str = 'results_all'):\n",
    "    fprs = []\n",
    "    tprs = []\n",
    "    for trial in trials:\n",
    "        f_count = 0\n",
    "        for face_id in face_ids:\n",
    "            labels = np.load(f'./{base_dir}/labels/lbl_{n_out}_t{trial}.npy')\n",
    "            pca_preds = np.load(f'./{base_dir}/{pca_type}/preds_{face_id}_{n_out}_t{trial}.npy')\n",
    "            if f_count > 0:\n",
    "                pca_preds_all += pca_preds\n",
    "            else:\n",
    "                pca_preds_all = pca_preds\n",
    "            f_count += 1\n",
    "        pca_preds_all = pca_preds_all/np.max(pca_preds_all)\n",
    "        # Compute ROC curve and AUC\n",
    "\n",
    "        fpr, tpr, _ = roc_curve(labels, pca_preds_all, drop_intermediate=False)\n",
    "        fprs.append(fpr)\n",
    "        tprs.append(tpr)\n",
    "\n",
    "    fpr = tolerant_mean(fprs)\n",
    "    tpr = tolerant_mean(tprs)\n",
    "\n",
    "    return fpr, tpr"
   ]
  },
  {
   "cell_type": "code",
   "execution_count": 31,
   "metadata": {},
   "outputs": [
    {
     "data": {
      "image/png": "[encoded data removed]",
      "text/plain": [
       "<Figure size 576x180 with 3 Axes>"
      ]
     },
     "metadata": {
      "needs_background": "light"
     },
     "output_type": "display_data"
    }
   ],
   "source": [
    "trials = [0,1,2,3,4]\n",
    "\n",
    "plt.rcParams.update({'font.size': 14})\n",
    "fig, axs = plt.subplots(1,3, figsize = (8,2.5))\n",
    "\n",
    "\n",
    "linestyles = ['solid', '--', 'dashed', 'dashdot', 'dotted', (0, (3, 1, 1, 1)), (0, (5, 2)), (0, (3, 1, 1, 1, 1, 1)), (0, (5, 2, 1, 2)), (0, (3, 1, 1, 1, 1, 1, 1, 1))]\n",
    "\n",
    "face_ids = []\n",
    "for f in list(np.arange(1,13))+list(np.arange(15,39)):\n",
    "    if f < 10:\n",
    "        face_ids.append(f'0{f}')\n",
    "    else:\n",
    "        face_ids.append(str(f))\n",
    "\n",
    "ax_num = 0\n",
    "for n_out in [32,64,128]: #,64,128]:\n",
    "    ii=0\n",
    "\n",
    "    for pca_type, pca_label in zip(['wpca'], ['fWPCA(1,9)']):\n",
    "\n",
    "        fpr, tpr = get_curves(face_ids, n_out, trials, pca_type)\n",
    "        axs[ax_num].plot(fpr, tpr, alpha = .7, lw = 4, linestyle = 'dashed', label = f'{pca_label}', color = 'tab:purple')# (AUC = {np.round(roc_auc,2)})')\n",
    "        ii+=1\n",
    "\n",
    "\n",
    "    for pca_type, pca_label in zip(['dpcp'], ['fDPCP(1,49)']):\n",
    "\n",
    "        fpr, tpr = get_curves(face_ids, n_out, trials, pca_type)\n",
    "        axs[ax_num].plot(fpr, tpr, alpha = .7, lw = 4, linestyle = 'solid', label = f'{pca_label}', color = 'tab:blue')# (AUC = {np.round(roc_auc,2)})')\n",
    "        ii+=1\n",
    "\n",
    "\n",
    "    fpr, tpr = get_curves(face_ids, n_out, trials, 'pca')\n",
    "    axs[ax_num].plot(fpr, tpr, alpha = .7, lw = 4, linestyle = 'dotted', label = f'PCA', color = 'tab:red')# (AUC = {np.round(roc_auc,2)})')\n",
    "    ii+=1\n",
    "\n",
    "\n",
    "    axs[ax_num].set_xlabel('FPR')\n",
    "    axs[0].set_ylabel('TPR')\n",
    "    axs[ax_num].set_title(f'{n_out} Outliers')\n",
    "    axs[ax_num].set_xscale('log')\n",
    "    axs[ax_num].grid(True, which=\"both\", axis = 'x')\n",
    "\n",
    "    \n",
    "    ax_num +=1\n",
    "\n",
    "\n",
    "\n",
    "axs[0].set_ylim([.7,1.01])\n",
    "\n",
    "axs[1].set_ylim([.70, 1.01])\n",
    "axs[1].set_yticks([])\n",
    "\n",
    "axs[2].set_ylim([.70, 1.01])\n",
    "axs[2].set_yticks([])\n",
    "axs[2].legend(loc='center left', bbox_to_anchor=(1, 0.5), fontsize = 14)\n",
    "\n",
    "\n",
    "plt.tight_layout()\n",
    "plt.savefig('faces_roc.pdf')\n"
   ]
  }
 ],
 "metadata": {
  "kernelspec": {
   "display_name": "Python 3",
   "language": "python",
   "name": "python3"
  },
  "language_info": {
   "codemirror_mode": {
    "name": "ipython",
    "version": 3
   },
   "file_extension": ".py",
   "mimetype": "text/x-python",
   "name": "python",
   "nbconvert_exporter": "python",
   "pygments_lexer": "ipython3",
   "version": "3.8.9"
  }
 },
 "nbformat": 4,
 "nbformat_minor": 2
}
